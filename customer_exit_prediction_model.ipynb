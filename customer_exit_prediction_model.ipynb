{
 "cells": [
  {
   "cell_type": "markdown",
   "id": "acbb0cd6",
   "metadata": {},
   "source": [
    "# Content\n",
    "\n",
    "1 Data preparation\n",
    "\n",
    "2 Task research\n",
    "\n",
    "3 Fighting the imbalance\n",
    "\n",
    "4 Testing the model\n",
    "\n",
    "5 Conclusions"
   ]
  },
  {
   "cell_type": "markdown",
   "id": "65b7b5bf",
   "metadata": {},
   "source": [
    "# Customer Exit Prediction Model\n",
    "\n",
    "Customers began to leave a Bank, every month. A little, but noticeable. Bank marketers have calculated that it is cheaper to retain current customers than to attract new ones.\n",
    "\n",
    "The task is to predict whether the client will leave the bank in the near future or not. I will be working with historical data on the behavior of customers and the termination of contracts with the bank.\n",
    "\n",
    "I am going to build a model with an extremely large value of the F1-measure. What I want to do is bring the metric to 0.59 minimum.\n",
    "\n",
    "Additionally, I will measure the AUC-ROC, and compare its value with the F1-measure.\n",
    "\n",
    "Data source: https://www.kaggle.com/barelydedicated/bank-customer-churn-modeling"
   ]
  },
  {
   "cell_type": "markdown",
   "id": "ab7d25e8",
   "metadata": {},
   "source": [
    "# Data preparation"
   ]
  },
  {
   "cell_type": "markdown",
   "id": "fea9671e",
   "metadata": {},
   "source": [
    "In the first place, I am going to import the libraries."
   ]
  },
  {
   "cell_type": "code",
   "execution_count": 7,
   "id": "e101ebdf",
   "metadata": {},
   "outputs": [],
   "source": [
    "from sklearn.metrics import accuracy_score, recall_score, roc_auc_score, f1_score, roc_curve\n",
    "\n",
    "from sklearn.tree import DecisionTreeClassifier\n",
    "\n",
    "from sklearn.linear_model import LogisticRegression\n",
    "\n",
    "import matplotlib.pyplot as plt\n",
    "\n",
    "import numpy as np\n",
    "\n",
    "from sklearn.preprocessing import OneHotEncoder, StandardScaler\n",
    "\n",
    "import pandas as pd\n",
    "\n",
    "from sklearn.ensemble import RandomForestClassifier\n",
    "\n",
    "from sklearn.utils import shuffle\n",
    "\n",
    "from sklearn.model_selection import train_test_split\n",
    "\n",
    "import warnings \n",
    "\n",
    "warnings.filterwarnings(\"ignore\")"
   ]
  },
  {
   "cell_type": "markdown",
   "id": "e74099a4",
   "metadata": {},
   "source": [
    "We store the data in a variable for further processing."
   ]
  },
  {
   "cell_type": "code",
   "execution_count": 4,
   "id": "0d6719c0",
   "metadata": {},
   "outputs": [],
   "source": [
    "data = pd.read_csv(r'C:\\Users\\pinos\\Desktop\\statistics\\Churn (1).csv')"
   ]
  },
  {
   "cell_type": "markdown",
   "id": "f48e58fb",
   "metadata": {},
   "source": [
    "Now we look at the data with a loop. We are going to see basics descriptives statistics, the type of data we have, and the missing values."
   ]
  },
  {
   "cell_type": "code",
   "execution_count": 9,
   "id": "7a28ba0d",
   "metadata": {},
   "outputs": [
    {
     "name": "stdout",
     "output_type": "stream",
     "text": [
      "<class 'pandas.core.frame.DataFrame'>\n",
      "RangeIndex: 10000 entries, 0 to 9999\n",
      "Data columns (total 14 columns):\n",
      " #   Column           Non-Null Count  Dtype  \n",
      "---  ------           --------------  -----  \n",
      " 0   RowNumber        10000 non-null  int64  \n",
      " 1   CustomerId       10000 non-null  int64  \n",
      " 2   Surname          10000 non-null  object \n",
      " 3   CreditScore      10000 non-null  int64  \n",
      " 4   Geography        10000 non-null  object \n",
      " 5   Gender           10000 non-null  object \n",
      " 6   Age              10000 non-null  int64  \n",
      " 7   Tenure           9091 non-null   float64\n",
      " 8   Balance          10000 non-null  float64\n",
      " 9   NumOfProducts    10000 non-null  int64  \n",
      " 10  HasCrCard        10000 non-null  int64  \n",
      " 11  IsActiveMember   10000 non-null  int64  \n",
      " 12  EstimatedSalary  10000 non-null  float64\n",
      " 13  Exited           10000 non-null  int64  \n",
      "dtypes: float64(3), int64(8), object(3)\n",
      "memory usage: 976.6+ KB\n",
      "      RowNumber  CustomerId    Surname  CreditScore Geography  Gender  Age  \\\n",
      "0             1    15634602   Hargrave          619    France  Female   42   \n",
      "1             2    15647311       Hill          608     Spain  Female   41   \n",
      "2             3    15619304       Onio          502    France  Female   42   \n",
      "3             4    15701354       Boni          699    France  Female   39   \n",
      "4             5    15737888   Mitchell          850     Spain  Female   43   \n",
      "...         ...         ...        ...          ...       ...     ...  ...   \n",
      "9995       9996    15606229   Obijiaku          771    France    Male   39   \n",
      "9996       9997    15569892  Johnstone          516    France    Male   35   \n",
      "9997       9998    15584532        Liu          709    France  Female   36   \n",
      "9998       9999    15682355  Sabbatini          772   Germany    Male   42   \n",
      "9999      10000    15628319     Walker          792    France  Female   28   \n",
      "\n",
      "      Tenure    Balance  NumOfProducts  HasCrCard  IsActiveMember  \\\n",
      "0        2.0       0.00              1          1               1   \n",
      "1        1.0   83807.86              1          0               1   \n",
      "2        8.0  159660.80              3          1               0   \n",
      "3        1.0       0.00              2          0               0   \n",
      "4        2.0  125510.82              1          1               1   \n",
      "...      ...        ...            ...        ...             ...   \n",
      "9995     5.0       0.00              2          1               0   \n",
      "9996    10.0   57369.61              1          1               1   \n",
      "9997     7.0       0.00              1          0               1   \n",
      "9998     3.0   75075.31              2          1               0   \n",
      "9999     NaN  130142.79              1          1               0   \n",
      "\n",
      "      EstimatedSalary  Exited  \n",
      "0           101348.88       1  \n",
      "1           112542.58       0  \n",
      "2           113931.57       1  \n",
      "3            93826.63       0  \n",
      "4            79084.10       0  \n",
      "...               ...     ...  \n",
      "9995         96270.64       0  \n",
      "9996        101699.77       0  \n",
      "9997         42085.58       1  \n",
      "9998         92888.52       1  \n",
      "9999         38190.78       0  \n",
      "\n",
      "[10000 rows x 14 columns]\n",
      "<class 'pandas.core.frame.DataFrame'>\n",
      "RangeIndex: 10000 entries, 0 to 9999\n",
      "Data columns (total 14 columns):\n",
      " #   Column           Non-Null Count  Dtype  \n",
      "---  ------           --------------  -----  \n",
      " 0   RowNumber        10000 non-null  int64  \n",
      " 1   CustomerId       10000 non-null  int64  \n",
      " 2   Surname          10000 non-null  object \n",
      " 3   CreditScore      10000 non-null  int64  \n",
      " 4   Geography        10000 non-null  object \n",
      " 5   Gender           10000 non-null  object \n",
      " 6   Age              10000 non-null  int64  \n",
      " 7   Tenure           9091 non-null   float64\n",
      " 8   Balance          10000 non-null  float64\n",
      " 9   NumOfProducts    10000 non-null  int64  \n",
      " 10  HasCrCard        10000 non-null  int64  \n",
      " 11  IsActiveMember   10000 non-null  int64  \n",
      " 12  EstimatedSalary  10000 non-null  float64\n",
      " 13  Exited           10000 non-null  int64  \n",
      "dtypes: float64(3), int64(8), object(3)\n",
      "memory usage: 976.6+ KB\n",
      "      RowNumber  CustomerId    Surname  CreditScore Geography  Gender  Age  \\\n",
      "0             1    15634602   Hargrave          619    France  Female   42   \n",
      "1             2    15647311       Hill          608     Spain  Female   41   \n",
      "2             3    15619304       Onio          502    France  Female   42   \n",
      "3             4    15701354       Boni          699    France  Female   39   \n",
      "4             5    15737888   Mitchell          850     Spain  Female   43   \n",
      "...         ...         ...        ...          ...       ...     ...  ...   \n",
      "9995       9996    15606229   Obijiaku          771    France    Male   39   \n",
      "9996       9997    15569892  Johnstone          516    France    Male   35   \n",
      "9997       9998    15584532        Liu          709    France  Female   36   \n",
      "9998       9999    15682355  Sabbatini          772   Germany    Male   42   \n",
      "9999      10000    15628319     Walker          792    France  Female   28   \n",
      "\n",
      "      Tenure    Balance  NumOfProducts  HasCrCard  IsActiveMember  \\\n",
      "0        2.0       0.00              1          1               1   \n",
      "1        1.0   83807.86              1          0               1   \n",
      "2        8.0  159660.80              3          1               0   \n",
      "3        1.0       0.00              2          0               0   \n",
      "4        2.0  125510.82              1          1               1   \n",
      "...      ...        ...            ...        ...             ...   \n",
      "9995     5.0       0.00              2          1               0   \n",
      "9996    10.0   57369.61              1          1               1   \n",
      "9997     7.0       0.00              1          0               1   \n",
      "9998     3.0   75075.31              2          1               0   \n",
      "9999     NaN  130142.79              1          1               0   \n",
      "\n",
      "      EstimatedSalary  Exited  \n",
      "0           101348.88       1  \n",
      "1           112542.58       0  \n",
      "2           113931.57       1  \n",
      "3            93826.63       0  \n",
      "4            79084.10       0  \n",
      "...               ...     ...  \n",
      "9995         96270.64       0  \n",
      "9996        101699.77       0  \n",
      "9997         42085.58       1  \n",
      "9998         92888.52       1  \n",
      "9999         38190.78       0  \n",
      "\n",
      "[10000 rows x 14 columns]\n",
      "<class 'pandas.core.frame.DataFrame'>\n",
      "RangeIndex: 10000 entries, 0 to 9999\n",
      "Data columns (total 14 columns):\n",
      " #   Column           Non-Null Count  Dtype  \n",
      "---  ------           --------------  -----  \n",
      " 0   RowNumber        10000 non-null  int64  \n",
      " 1   CustomerId       10000 non-null  int64  \n",
      " 2   Surname          10000 non-null  object \n",
      " 3   CreditScore      10000 non-null  int64  \n",
      " 4   Geography        10000 non-null  object \n",
      " 5   Gender           10000 non-null  object \n",
      " 6   Age              10000 non-null  int64  \n",
      " 7   Tenure           9091 non-null   float64\n",
      " 8   Balance          10000 non-null  float64\n",
      " 9   NumOfProducts    10000 non-null  int64  \n",
      " 10  HasCrCard        10000 non-null  int64  \n",
      " 11  IsActiveMember   10000 non-null  int64  \n",
      " 12  EstimatedSalary  10000 non-null  float64\n",
      " 13  Exited           10000 non-null  int64  \n",
      "dtypes: float64(3), int64(8), object(3)\n",
      "memory usage: 976.6+ KB\n",
      "      RowNumber  CustomerId    Surname  CreditScore Geography  Gender  Age  \\\n",
      "0             1    15634602   Hargrave          619    France  Female   42   \n",
      "1             2    15647311       Hill          608     Spain  Female   41   \n",
      "2             3    15619304       Onio          502    France  Female   42   \n",
      "3             4    15701354       Boni          699    France  Female   39   \n",
      "4             5    15737888   Mitchell          850     Spain  Female   43   \n",
      "...         ...         ...        ...          ...       ...     ...  ...   \n",
      "9995       9996    15606229   Obijiaku          771    France    Male   39   \n",
      "9996       9997    15569892  Johnstone          516    France    Male   35   \n",
      "9997       9998    15584532        Liu          709    France  Female   36   \n",
      "9998       9999    15682355  Sabbatini          772   Germany    Male   42   \n",
      "9999      10000    15628319     Walker          792    France  Female   28   \n",
      "\n",
      "      Tenure    Balance  NumOfProducts  HasCrCard  IsActiveMember  \\\n",
      "0        2.0       0.00              1          1               1   \n",
      "1        1.0   83807.86              1          0               1   \n",
      "2        8.0  159660.80              3          1               0   \n",
      "3        1.0       0.00              2          0               0   \n",
      "4        2.0  125510.82              1          1               1   \n",
      "...      ...        ...            ...        ...             ...   \n",
      "9995     5.0       0.00              2          1               0   \n",
      "9996    10.0   57369.61              1          1               1   \n",
      "9997     7.0       0.00              1          0               1   \n",
      "9998     3.0   75075.31              2          1               0   \n",
      "9999     NaN  130142.79              1          1               0   \n",
      "\n",
      "      EstimatedSalary  Exited  \n",
      "0           101348.88       1  \n",
      "1           112542.58       0  \n",
      "2           113931.57       1  \n",
      "3            93826.63       0  \n",
      "4            79084.10       0  \n",
      "...               ...     ...  \n",
      "9995         96270.64       0  \n",
      "9996        101699.77       0  \n",
      "9997         42085.58       1  \n",
      "9998         92888.52       1  \n",
      "9999         38190.78       0  \n",
      "\n",
      "[10000 rows x 14 columns]\n",
      "<class 'pandas.core.frame.DataFrame'>\n",
      "RangeIndex: 10000 entries, 0 to 9999\n",
      "Data columns (total 14 columns):\n",
      " #   Column           Non-Null Count  Dtype  \n",
      "---  ------           --------------  -----  \n",
      " 0   RowNumber        10000 non-null  int64  \n",
      " 1   CustomerId       10000 non-null  int64  \n",
      " 2   Surname          10000 non-null  object \n",
      " 3   CreditScore      10000 non-null  int64  \n",
      " 4   Geography        10000 non-null  object \n",
      " 5   Gender           10000 non-null  object \n",
      " 6   Age              10000 non-null  int64  \n",
      " 7   Tenure           9091 non-null   float64\n",
      " 8   Balance          10000 non-null  float64\n",
      " 9   NumOfProducts    10000 non-null  int64  \n",
      " 10  HasCrCard        10000 non-null  int64  \n",
      " 11  IsActiveMember   10000 non-null  int64  \n",
      " 12  EstimatedSalary  10000 non-null  float64\n",
      " 13  Exited           10000 non-null  int64  \n",
      "dtypes: float64(3), int64(8), object(3)\n",
      "memory usage: 976.6+ KB\n",
      "      RowNumber  CustomerId    Surname  CreditScore Geography  Gender  Age  \\\n",
      "0             1    15634602   Hargrave          619    France  Female   42   \n",
      "1             2    15647311       Hill          608     Spain  Female   41   \n",
      "2             3    15619304       Onio          502    France  Female   42   \n",
      "3             4    15701354       Boni          699    France  Female   39   \n",
      "4             5    15737888   Mitchell          850     Spain  Female   43   \n",
      "...         ...         ...        ...          ...       ...     ...  ...   \n",
      "9995       9996    15606229   Obijiaku          771    France    Male   39   \n",
      "9996       9997    15569892  Johnstone          516    France    Male   35   \n",
      "9997       9998    15584532        Liu          709    France  Female   36   \n",
      "9998       9999    15682355  Sabbatini          772   Germany    Male   42   \n",
      "9999      10000    15628319     Walker          792    France  Female   28   \n",
      "\n",
      "      Tenure    Balance  NumOfProducts  HasCrCard  IsActiveMember  \\\n",
      "0        2.0       0.00              1          1               1   \n",
      "1        1.0   83807.86              1          0               1   \n",
      "2        8.0  159660.80              3          1               0   \n",
      "3        1.0       0.00              2          0               0   \n",
      "4        2.0  125510.82              1          1               1   \n",
      "...      ...        ...            ...        ...             ...   \n",
      "9995     5.0       0.00              2          1               0   \n",
      "9996    10.0   57369.61              1          1               1   \n",
      "9997     7.0       0.00              1          0               1   \n",
      "9998     3.0   75075.31              2          1               0   \n",
      "9999     NaN  130142.79              1          1               0   \n",
      "\n",
      "      EstimatedSalary  Exited  \n",
      "0           101348.88       1  \n",
      "1           112542.58       0  \n",
      "2           113931.57       1  \n",
      "3            93826.63       0  \n",
      "4            79084.10       0  \n",
      "...               ...     ...  \n",
      "9995         96270.64       0  \n",
      "9996        101699.77       0  \n",
      "9997         42085.58       1  \n",
      "9998         92888.52       1  \n",
      "9999         38190.78       0  \n",
      "\n",
      "[10000 rows x 14 columns]\n",
      "<class 'pandas.core.frame.DataFrame'>\n",
      "RangeIndex: 10000 entries, 0 to 9999\n",
      "Data columns (total 14 columns):\n",
      " #   Column           Non-Null Count  Dtype  \n",
      "---  ------           --------------  -----  \n",
      " 0   RowNumber        10000 non-null  int64  \n",
      " 1   CustomerId       10000 non-null  int64  \n",
      " 2   Surname          10000 non-null  object \n",
      " 3   CreditScore      10000 non-null  int64  \n",
      " 4   Geography        10000 non-null  object \n",
      " 5   Gender           10000 non-null  object \n",
      " 6   Age              10000 non-null  int64  \n",
      " 7   Tenure           9091 non-null   float64\n",
      " 8   Balance          10000 non-null  float64\n",
      " 9   NumOfProducts    10000 non-null  int64  \n",
      " 10  HasCrCard        10000 non-null  int64  \n",
      " 11  IsActiveMember   10000 non-null  int64  \n",
      " 12  EstimatedSalary  10000 non-null  float64\n",
      " 13  Exited           10000 non-null  int64  \n",
      "dtypes: float64(3), int64(8), object(3)\n",
      "memory usage: 976.6+ KB\n",
      "      RowNumber  CustomerId    Surname  CreditScore Geography  Gender  Age  \\\n",
      "0             1    15634602   Hargrave          619    France  Female   42   \n",
      "1             2    15647311       Hill          608     Spain  Female   41   \n",
      "2             3    15619304       Onio          502    France  Female   42   \n",
      "3             4    15701354       Boni          699    France  Female   39   \n",
      "4             5    15737888   Mitchell          850     Spain  Female   43   \n",
      "...         ...         ...        ...          ...       ...     ...  ...   \n",
      "9995       9996    15606229   Obijiaku          771    France    Male   39   \n",
      "9996       9997    15569892  Johnstone          516    France    Male   35   \n",
      "9997       9998    15584532        Liu          709    France  Female   36   \n",
      "9998       9999    15682355  Sabbatini          772   Germany    Male   42   \n",
      "9999      10000    15628319     Walker          792    France  Female   28   \n",
      "\n",
      "      Tenure    Balance  NumOfProducts  HasCrCard  IsActiveMember  \\\n",
      "0        2.0       0.00              1          1               1   \n",
      "1        1.0   83807.86              1          0               1   \n",
      "2        8.0  159660.80              3          1               0   \n",
      "3        1.0       0.00              2          0               0   \n",
      "4        2.0  125510.82              1          1               1   \n",
      "...      ...        ...            ...        ...             ...   \n",
      "9995     5.0       0.00              2          1               0   \n",
      "9996    10.0   57369.61              1          1               1   \n",
      "9997     7.0       0.00              1          0               1   \n",
      "9998     3.0   75075.31              2          1               0   \n",
      "9999     NaN  130142.79              1          1               0   \n",
      "\n",
      "      EstimatedSalary  Exited  \n",
      "0           101348.88       1  \n",
      "1           112542.58       0  \n",
      "2           113931.57       1  \n",
      "3            93826.63       0  \n",
      "4            79084.10       0  \n",
      "...               ...     ...  \n",
      "9995         96270.64       0  \n",
      "9996        101699.77       0  \n",
      "9997         42085.58       1  \n",
      "9998         92888.52       1  \n",
      "9999         38190.78       0  \n",
      "\n",
      "[10000 rows x 14 columns]\n",
      "<class 'pandas.core.frame.DataFrame'>\n",
      "RangeIndex: 10000 entries, 0 to 9999\n",
      "Data columns (total 14 columns):\n",
      " #   Column           Non-Null Count  Dtype  \n",
      "---  ------           --------------  -----  \n",
      " 0   RowNumber        10000 non-null  int64  \n",
      " 1   CustomerId       10000 non-null  int64  \n",
      " 2   Surname          10000 non-null  object \n",
      " 3   CreditScore      10000 non-null  int64  \n",
      " 4   Geography        10000 non-null  object \n",
      " 5   Gender           10000 non-null  object \n",
      " 6   Age              10000 non-null  int64  \n",
      " 7   Tenure           9091 non-null   float64\n",
      " 8   Balance          10000 non-null  float64\n",
      " 9   NumOfProducts    10000 non-null  int64  \n",
      " 10  HasCrCard        10000 non-null  int64  \n",
      " 11  IsActiveMember   10000 non-null  int64  \n",
      " 12  EstimatedSalary  10000 non-null  float64\n",
      " 13  Exited           10000 non-null  int64  \n",
      "dtypes: float64(3), int64(8), object(3)\n",
      "memory usage: 976.6+ KB\n",
      "      RowNumber  CustomerId    Surname  CreditScore Geography  Gender  Age  \\\n",
      "0             1    15634602   Hargrave          619    France  Female   42   \n",
      "1             2    15647311       Hill          608     Spain  Female   41   \n",
      "2             3    15619304       Onio          502    France  Female   42   \n",
      "3             4    15701354       Boni          699    France  Female   39   \n",
      "4             5    15737888   Mitchell          850     Spain  Female   43   \n",
      "...         ...         ...        ...          ...       ...     ...  ...   \n",
      "9995       9996    15606229   Obijiaku          771    France    Male   39   \n",
      "9996       9997    15569892  Johnstone          516    France    Male   35   \n",
      "9997       9998    15584532        Liu          709    France  Female   36   \n",
      "9998       9999    15682355  Sabbatini          772   Germany    Male   42   \n",
      "9999      10000    15628319     Walker          792    France  Female   28   \n",
      "\n",
      "      Tenure    Balance  NumOfProducts  HasCrCard  IsActiveMember  \\\n",
      "0        2.0       0.00              1          1               1   \n",
      "1        1.0   83807.86              1          0               1   \n",
      "2        8.0  159660.80              3          1               0   \n",
      "3        1.0       0.00              2          0               0   \n",
      "4        2.0  125510.82              1          1               1   \n",
      "...      ...        ...            ...        ...             ...   \n",
      "9995     5.0       0.00              2          1               0   \n",
      "9996    10.0   57369.61              1          1               1   \n",
      "9997     7.0       0.00              1          0               1   \n",
      "9998     3.0   75075.31              2          1               0   \n",
      "9999     NaN  130142.79              1          1               0   \n",
      "\n",
      "      EstimatedSalary  Exited  \n",
      "0           101348.88       1  \n",
      "1           112542.58       0  \n",
      "2           113931.57       1  \n",
      "3            93826.63       0  \n",
      "4            79084.10       0  \n",
      "...               ...     ...  \n",
      "9995         96270.64       0  \n",
      "9996        101699.77       0  \n",
      "9997         42085.58       1  \n",
      "9998         92888.52       1  \n",
      "9999         38190.78       0  \n",
      "\n",
      "[10000 rows x 14 columns]\n",
      "<class 'pandas.core.frame.DataFrame'>\n",
      "RangeIndex: 10000 entries, 0 to 9999\n",
      "Data columns (total 14 columns):\n",
      " #   Column           Non-Null Count  Dtype  \n",
      "---  ------           --------------  -----  \n",
      " 0   RowNumber        10000 non-null  int64  \n",
      " 1   CustomerId       10000 non-null  int64  \n",
      " 2   Surname          10000 non-null  object \n",
      " 3   CreditScore      10000 non-null  int64  \n",
      " 4   Geography        10000 non-null  object \n",
      " 5   Gender           10000 non-null  object \n",
      " 6   Age              10000 non-null  int64  \n",
      " 7   Tenure           9091 non-null   float64\n",
      " 8   Balance          10000 non-null  float64\n",
      " 9   NumOfProducts    10000 non-null  int64  \n",
      " 10  HasCrCard        10000 non-null  int64  \n",
      " 11  IsActiveMember   10000 non-null  int64  \n",
      " 12  EstimatedSalary  10000 non-null  float64\n",
      " 13  Exited           10000 non-null  int64  \n",
      "dtypes: float64(3), int64(8), object(3)\n",
      "memory usage: 976.6+ KB\n",
      "      RowNumber  CustomerId    Surname  CreditScore Geography  Gender  Age  \\\n",
      "0             1    15634602   Hargrave          619    France  Female   42   \n",
      "1             2    15647311       Hill          608     Spain  Female   41   \n",
      "2             3    15619304       Onio          502    France  Female   42   \n",
      "3             4    15701354       Boni          699    France  Female   39   \n",
      "4             5    15737888   Mitchell          850     Spain  Female   43   \n",
      "...         ...         ...        ...          ...       ...     ...  ...   \n",
      "9995       9996    15606229   Obijiaku          771    France    Male   39   \n",
      "9996       9997    15569892  Johnstone          516    France    Male   35   \n",
      "9997       9998    15584532        Liu          709    France  Female   36   \n",
      "9998       9999    15682355  Sabbatini          772   Germany    Male   42   \n",
      "9999      10000    15628319     Walker          792    France  Female   28   \n",
      "\n",
      "      Tenure    Balance  NumOfProducts  HasCrCard  IsActiveMember  \\\n",
      "0        2.0       0.00              1          1               1   \n",
      "1        1.0   83807.86              1          0               1   \n",
      "2        8.0  159660.80              3          1               0   \n",
      "3        1.0       0.00              2          0               0   \n",
      "4        2.0  125510.82              1          1               1   \n",
      "...      ...        ...            ...        ...             ...   \n",
      "9995     5.0       0.00              2          1               0   \n",
      "9996    10.0   57369.61              1          1               1   \n",
      "9997     7.0       0.00              1          0               1   \n",
      "9998     3.0   75075.31              2          1               0   \n",
      "9999     NaN  130142.79              1          1               0   \n",
      "\n",
      "      EstimatedSalary  Exited  \n",
      "0           101348.88       1  \n",
      "1           112542.58       0  \n",
      "2           113931.57       1  \n",
      "3            93826.63       0  \n",
      "4            79084.10       0  \n",
      "...               ...     ...  \n",
      "9995         96270.64       0  \n",
      "9996        101699.77       0  \n",
      "9997         42085.58       1  \n",
      "9998         92888.52       1  \n",
      "9999         38190.78       0  \n",
      "\n",
      "[10000 rows x 14 columns]\n",
      "<class 'pandas.core.frame.DataFrame'>\n",
      "RangeIndex: 10000 entries, 0 to 9999\n",
      "Data columns (total 14 columns):\n",
      " #   Column           Non-Null Count  Dtype  \n",
      "---  ------           --------------  -----  \n",
      " 0   RowNumber        10000 non-null  int64  \n",
      " 1   CustomerId       10000 non-null  int64  \n",
      " 2   Surname          10000 non-null  object \n",
      " 3   CreditScore      10000 non-null  int64  \n",
      " 4   Geography        10000 non-null  object \n",
      " 5   Gender           10000 non-null  object \n",
      " 6   Age              10000 non-null  int64  \n",
      " 7   Tenure           9091 non-null   float64\n",
      " 8   Balance          10000 non-null  float64\n",
      " 9   NumOfProducts    10000 non-null  int64  \n",
      " 10  HasCrCard        10000 non-null  int64  \n",
      " 11  IsActiveMember   10000 non-null  int64  \n",
      " 12  EstimatedSalary  10000 non-null  float64\n",
      " 13  Exited           10000 non-null  int64  \n",
      "dtypes: float64(3), int64(8), object(3)\n",
      "memory usage: 976.6+ KB\n",
      "      RowNumber  CustomerId    Surname  CreditScore Geography  Gender  Age  \\\n",
      "0             1    15634602   Hargrave          619    France  Female   42   \n",
      "1             2    15647311       Hill          608     Spain  Female   41   \n",
      "2             3    15619304       Onio          502    France  Female   42   \n",
      "3             4    15701354       Boni          699    France  Female   39   \n",
      "4             5    15737888   Mitchell          850     Spain  Female   43   \n",
      "...         ...         ...        ...          ...       ...     ...  ...   \n",
      "9995       9996    15606229   Obijiaku          771    France    Male   39   \n",
      "9996       9997    15569892  Johnstone          516    France    Male   35   \n",
      "9997       9998    15584532        Liu          709    France  Female   36   \n",
      "9998       9999    15682355  Sabbatini          772   Germany    Male   42   \n",
      "9999      10000    15628319     Walker          792    France  Female   28   \n",
      "\n",
      "      Tenure    Balance  NumOfProducts  HasCrCard  IsActiveMember  \\\n",
      "0        2.0       0.00              1          1               1   \n",
      "1        1.0   83807.86              1          0               1   \n",
      "2        8.0  159660.80              3          1               0   \n",
      "3        1.0       0.00              2          0               0   \n",
      "4        2.0  125510.82              1          1               1   \n",
      "...      ...        ...            ...        ...             ...   \n",
      "9995     5.0       0.00              2          1               0   \n",
      "9996    10.0   57369.61              1          1               1   \n",
      "9997     7.0       0.00              1          0               1   \n",
      "9998     3.0   75075.31              2          1               0   \n",
      "9999     NaN  130142.79              1          1               0   \n",
      "\n",
      "      EstimatedSalary  Exited  \n",
      "0           101348.88       1  \n",
      "1           112542.58       0  \n",
      "2           113931.57       1  \n",
      "3            93826.63       0  \n",
      "4            79084.10       0  \n",
      "...               ...     ...  \n",
      "9995         96270.64       0  \n",
      "9996        101699.77       0  \n",
      "9997         42085.58       1  \n",
      "9998         92888.52       1  \n",
      "9999         38190.78       0  \n",
      "\n",
      "[10000 rows x 14 columns]\n",
      "<class 'pandas.core.frame.DataFrame'>\n",
      "RangeIndex: 10000 entries, 0 to 9999\n",
      "Data columns (total 14 columns):\n",
      " #   Column           Non-Null Count  Dtype  \n",
      "---  ------           --------------  -----  \n",
      " 0   RowNumber        10000 non-null  int64  \n",
      " 1   CustomerId       10000 non-null  int64  \n",
      " 2   Surname          10000 non-null  object \n",
      " 3   CreditScore      10000 non-null  int64  \n",
      " 4   Geography        10000 non-null  object \n",
      " 5   Gender           10000 non-null  object \n",
      " 6   Age              10000 non-null  int64  \n",
      " 7   Tenure           9091 non-null   float64\n",
      " 8   Balance          10000 non-null  float64\n",
      " 9   NumOfProducts    10000 non-null  int64  \n",
      " 10  HasCrCard        10000 non-null  int64  \n",
      " 11  IsActiveMember   10000 non-null  int64  \n",
      " 12  EstimatedSalary  10000 non-null  float64\n",
      " 13  Exited           10000 non-null  int64  \n",
      "dtypes: float64(3), int64(8), object(3)\n",
      "memory usage: 976.6+ KB\n",
      "      RowNumber  CustomerId    Surname  CreditScore Geography  Gender  Age  \\\n",
      "0             1    15634602   Hargrave          619    France  Female   42   \n",
      "1             2    15647311       Hill          608     Spain  Female   41   \n",
      "2             3    15619304       Onio          502    France  Female   42   \n",
      "3             4    15701354       Boni          699    France  Female   39   \n",
      "4             5    15737888   Mitchell          850     Spain  Female   43   \n",
      "...         ...         ...        ...          ...       ...     ...  ...   \n",
      "9995       9996    15606229   Obijiaku          771    France    Male   39   \n",
      "9996       9997    15569892  Johnstone          516    France    Male   35   \n",
      "9997       9998    15584532        Liu          709    France  Female   36   \n",
      "9998       9999    15682355  Sabbatini          772   Germany    Male   42   \n",
      "9999      10000    15628319     Walker          792    France  Female   28   \n",
      "\n",
      "      Tenure    Balance  NumOfProducts  HasCrCard  IsActiveMember  \\\n",
      "0        2.0       0.00              1          1               1   \n",
      "1        1.0   83807.86              1          0               1   \n",
      "2        8.0  159660.80              3          1               0   \n",
      "3        1.0       0.00              2          0               0   \n",
      "4        2.0  125510.82              1          1               1   \n",
      "...      ...        ...            ...        ...             ...   \n",
      "9995     5.0       0.00              2          1               0   \n",
      "9996    10.0   57369.61              1          1               1   \n",
      "9997     7.0       0.00              1          0               1   \n",
      "9998     3.0   75075.31              2          1               0   \n",
      "9999     NaN  130142.79              1          1               0   \n",
      "\n",
      "      EstimatedSalary  Exited  \n",
      "0           101348.88       1  \n",
      "1           112542.58       0  \n",
      "2           113931.57       1  \n",
      "3            93826.63       0  \n",
      "4            79084.10       0  \n",
      "...               ...     ...  \n",
      "9995         96270.64       0  \n",
      "9996        101699.77       0  \n",
      "9997         42085.58       1  \n",
      "9998         92888.52       1  \n",
      "9999         38190.78       0  \n",
      "\n",
      "[10000 rows x 14 columns]\n",
      "<class 'pandas.core.frame.DataFrame'>\n",
      "RangeIndex: 10000 entries, 0 to 9999\n",
      "Data columns (total 14 columns):\n",
      " #   Column           Non-Null Count  Dtype  \n",
      "---  ------           --------------  -----  \n",
      " 0   RowNumber        10000 non-null  int64  \n",
      " 1   CustomerId       10000 non-null  int64  \n",
      " 2   Surname          10000 non-null  object \n",
      " 3   CreditScore      10000 non-null  int64  \n",
      " 4   Geography        10000 non-null  object \n",
      " 5   Gender           10000 non-null  object \n",
      " 6   Age              10000 non-null  int64  \n",
      " 7   Tenure           9091 non-null   float64\n",
      " 8   Balance          10000 non-null  float64\n",
      " 9   NumOfProducts    10000 non-null  int64  \n",
      " 10  HasCrCard        10000 non-null  int64  \n",
      " 11  IsActiveMember   10000 non-null  int64  \n",
      " 12  EstimatedSalary  10000 non-null  float64\n",
      " 13  Exited           10000 non-null  int64  \n",
      "dtypes: float64(3), int64(8), object(3)\n",
      "memory usage: 976.6+ KB\n",
      "      RowNumber  CustomerId    Surname  CreditScore Geography  Gender  Age  \\\n",
      "0             1    15634602   Hargrave          619    France  Female   42   \n",
      "1             2    15647311       Hill          608     Spain  Female   41   \n",
      "2             3    15619304       Onio          502    France  Female   42   \n",
      "3             4    15701354       Boni          699    France  Female   39   \n",
      "4             5    15737888   Mitchell          850     Spain  Female   43   \n",
      "...         ...         ...        ...          ...       ...     ...  ...   \n",
      "9995       9996    15606229   Obijiaku          771    France    Male   39   \n",
      "9996       9997    15569892  Johnstone          516    France    Male   35   \n",
      "9997       9998    15584532        Liu          709    France  Female   36   \n",
      "9998       9999    15682355  Sabbatini          772   Germany    Male   42   \n",
      "9999      10000    15628319     Walker          792    France  Female   28   \n",
      "\n",
      "      Tenure    Balance  NumOfProducts  HasCrCard  IsActiveMember  \\\n",
      "0        2.0       0.00              1          1               1   \n",
      "1        1.0   83807.86              1          0               1   \n",
      "2        8.0  159660.80              3          1               0   \n",
      "3        1.0       0.00              2          0               0   \n",
      "4        2.0  125510.82              1          1               1   \n",
      "...      ...        ...            ...        ...             ...   \n",
      "9995     5.0       0.00              2          1               0   \n",
      "9996    10.0   57369.61              1          1               1   \n",
      "9997     7.0       0.00              1          0               1   \n",
      "9998     3.0   75075.31              2          1               0   \n",
      "9999     NaN  130142.79              1          1               0   \n",
      "\n",
      "      EstimatedSalary  Exited  \n",
      "0           101348.88       1  \n",
      "1           112542.58       0  \n",
      "2           113931.57       1  \n",
      "3            93826.63       0  \n",
      "4            79084.10       0  \n",
      "...               ...     ...  \n",
      "9995         96270.64       0  \n",
      "9996        101699.77       0  \n",
      "9997         42085.58       1  \n",
      "9998         92888.52       1  \n",
      "9999         38190.78       0  \n",
      "\n",
      "[10000 rows x 14 columns]\n",
      "<class 'pandas.core.frame.DataFrame'>\n",
      "RangeIndex: 10000 entries, 0 to 9999\n",
      "Data columns (total 14 columns):\n",
      " #   Column           Non-Null Count  Dtype  \n",
      "---  ------           --------------  -----  \n",
      " 0   RowNumber        10000 non-null  int64  \n",
      " 1   CustomerId       10000 non-null  int64  \n",
      " 2   Surname          10000 non-null  object \n",
      " 3   CreditScore      10000 non-null  int64  \n",
      " 4   Geography        10000 non-null  object \n",
      " 5   Gender           10000 non-null  object \n",
      " 6   Age              10000 non-null  int64  \n",
      " 7   Tenure           9091 non-null   float64\n",
      " 8   Balance          10000 non-null  float64\n",
      " 9   NumOfProducts    10000 non-null  int64  \n",
      " 10  HasCrCard        10000 non-null  int64  \n",
      " 11  IsActiveMember   10000 non-null  int64  \n",
      " 12  EstimatedSalary  10000 non-null  float64\n",
      " 13  Exited           10000 non-null  int64  \n",
      "dtypes: float64(3), int64(8), object(3)\n",
      "memory usage: 976.6+ KB\n",
      "      RowNumber  CustomerId    Surname  CreditScore Geography  Gender  Age  \\\n",
      "0             1    15634602   Hargrave          619    France  Female   42   \n",
      "1             2    15647311       Hill          608     Spain  Female   41   \n",
      "2             3    15619304       Onio          502    France  Female   42   \n",
      "3             4    15701354       Boni          699    France  Female   39   \n",
      "4             5    15737888   Mitchell          850     Spain  Female   43   \n",
      "...         ...         ...        ...          ...       ...     ...  ...   \n",
      "9995       9996    15606229   Obijiaku          771    France    Male   39   \n",
      "9996       9997    15569892  Johnstone          516    France    Male   35   \n",
      "9997       9998    15584532        Liu          709    France  Female   36   \n",
      "9998       9999    15682355  Sabbatini          772   Germany    Male   42   \n",
      "9999      10000    15628319     Walker          792    France  Female   28   \n",
      "\n",
      "      Tenure    Balance  NumOfProducts  HasCrCard  IsActiveMember  \\\n",
      "0        2.0       0.00              1          1               1   \n",
      "1        1.0   83807.86              1          0               1   \n",
      "2        8.0  159660.80              3          1               0   \n",
      "3        1.0       0.00              2          0               0   \n",
      "4        2.0  125510.82              1          1               1   \n",
      "...      ...        ...            ...        ...             ...   \n",
      "9995     5.0       0.00              2          1               0   \n",
      "9996    10.0   57369.61              1          1               1   \n",
      "9997     7.0       0.00              1          0               1   \n",
      "9998     3.0   75075.31              2          1               0   \n",
      "9999     NaN  130142.79              1          1               0   \n",
      "\n",
      "      EstimatedSalary  Exited  \n",
      "0           101348.88       1  \n",
      "1           112542.58       0  \n",
      "2           113931.57       1  \n",
      "3            93826.63       0  \n",
      "4            79084.10       0  \n",
      "...               ...     ...  \n",
      "9995         96270.64       0  \n",
      "9996        101699.77       0  \n",
      "9997         42085.58       1  \n",
      "9998         92888.52       1  \n",
      "9999         38190.78       0  \n",
      "\n",
      "[10000 rows x 14 columns]\n",
      "<class 'pandas.core.frame.DataFrame'>\n",
      "RangeIndex: 10000 entries, 0 to 9999\n",
      "Data columns (total 14 columns):\n",
      " #   Column           Non-Null Count  Dtype  \n",
      "---  ------           --------------  -----  \n",
      " 0   RowNumber        10000 non-null  int64  \n",
      " 1   CustomerId       10000 non-null  int64  \n",
      " 2   Surname          10000 non-null  object \n",
      " 3   CreditScore      10000 non-null  int64  \n",
      " 4   Geography        10000 non-null  object \n",
      " 5   Gender           10000 non-null  object \n",
      " 6   Age              10000 non-null  int64  \n",
      " 7   Tenure           9091 non-null   float64\n",
      " 8   Balance          10000 non-null  float64\n",
      " 9   NumOfProducts    10000 non-null  int64  \n",
      " 10  HasCrCard        10000 non-null  int64  \n",
      " 11  IsActiveMember   10000 non-null  int64  \n",
      " 12  EstimatedSalary  10000 non-null  float64\n",
      " 13  Exited           10000 non-null  int64  \n",
      "dtypes: float64(3), int64(8), object(3)\n",
      "memory usage: 976.6+ KB\n",
      "      RowNumber  CustomerId    Surname  CreditScore Geography  Gender  Age  \\\n",
      "0             1    15634602   Hargrave          619    France  Female   42   \n",
      "1             2    15647311       Hill          608     Spain  Female   41   \n",
      "2             3    15619304       Onio          502    France  Female   42   \n",
      "3             4    15701354       Boni          699    France  Female   39   \n",
      "4             5    15737888   Mitchell          850     Spain  Female   43   \n",
      "...         ...         ...        ...          ...       ...     ...  ...   \n",
      "9995       9996    15606229   Obijiaku          771    France    Male   39   \n",
      "9996       9997    15569892  Johnstone          516    France    Male   35   \n",
      "9997       9998    15584532        Liu          709    France  Female   36   \n",
      "9998       9999    15682355  Sabbatini          772   Germany    Male   42   \n",
      "9999      10000    15628319     Walker          792    France  Female   28   \n",
      "\n",
      "      Tenure    Balance  NumOfProducts  HasCrCard  IsActiveMember  \\\n",
      "0        2.0       0.00              1          1               1   \n",
      "1        1.0   83807.86              1          0               1   \n",
      "2        8.0  159660.80              3          1               0   \n",
      "3        1.0       0.00              2          0               0   \n",
      "4        2.0  125510.82              1          1               1   \n",
      "...      ...        ...            ...        ...             ...   \n",
      "9995     5.0       0.00              2          1               0   \n",
      "9996    10.0   57369.61              1          1               1   \n",
      "9997     7.0       0.00              1          0               1   \n",
      "9998     3.0   75075.31              2          1               0   \n",
      "9999     NaN  130142.79              1          1               0   \n",
      "\n",
      "      EstimatedSalary  Exited  \n",
      "0           101348.88       1  \n",
      "1           112542.58       0  \n",
      "2           113931.57       1  \n",
      "3            93826.63       0  \n",
      "4            79084.10       0  \n",
      "...               ...     ...  \n",
      "9995         96270.64       0  \n",
      "9996        101699.77       0  \n",
      "9997         42085.58       1  \n",
      "9998         92888.52       1  \n",
      "9999         38190.78       0  \n",
      "\n",
      "[10000 rows x 14 columns]\n",
      "<class 'pandas.core.frame.DataFrame'>\n",
      "RangeIndex: 10000 entries, 0 to 9999\n",
      "Data columns (total 14 columns):\n",
      " #   Column           Non-Null Count  Dtype  \n",
      "---  ------           --------------  -----  \n",
      " 0   RowNumber        10000 non-null  int64  \n",
      " 1   CustomerId       10000 non-null  int64  \n",
      " 2   Surname          10000 non-null  object \n",
      " 3   CreditScore      10000 non-null  int64  \n",
      " 4   Geography        10000 non-null  object \n",
      " 5   Gender           10000 non-null  object \n",
      " 6   Age              10000 non-null  int64  \n",
      " 7   Tenure           9091 non-null   float64\n",
      " 8   Balance          10000 non-null  float64\n",
      " 9   NumOfProducts    10000 non-null  int64  \n",
      " 10  HasCrCard        10000 non-null  int64  \n",
      " 11  IsActiveMember   10000 non-null  int64  \n",
      " 12  EstimatedSalary  10000 non-null  float64\n",
      " 13  Exited           10000 non-null  int64  \n",
      "dtypes: float64(3), int64(8), object(3)\n",
      "memory usage: 976.6+ KB\n",
      "      RowNumber  CustomerId    Surname  CreditScore Geography  Gender  Age  \\\n",
      "0             1    15634602   Hargrave          619    France  Female   42   \n",
      "1             2    15647311       Hill          608     Spain  Female   41   \n",
      "2             3    15619304       Onio          502    France  Female   42   \n",
      "3             4    15701354       Boni          699    France  Female   39   \n",
      "4             5    15737888   Mitchell          850     Spain  Female   43   \n",
      "...         ...         ...        ...          ...       ...     ...  ...   \n",
      "9995       9996    15606229   Obijiaku          771    France    Male   39   \n",
      "9996       9997    15569892  Johnstone          516    France    Male   35   \n",
      "9997       9998    15584532        Liu          709    France  Female   36   \n",
      "9998       9999    15682355  Sabbatini          772   Germany    Male   42   \n",
      "9999      10000    15628319     Walker          792    France  Female   28   \n",
      "\n",
      "      Tenure    Balance  NumOfProducts  HasCrCard  IsActiveMember  \\\n",
      "0        2.0       0.00              1          1               1   \n",
      "1        1.0   83807.86              1          0               1   \n",
      "2        8.0  159660.80              3          1               0   \n",
      "3        1.0       0.00              2          0               0   \n",
      "4        2.0  125510.82              1          1               1   \n",
      "...      ...        ...            ...        ...             ...   \n",
      "9995     5.0       0.00              2          1               0   \n",
      "9996    10.0   57369.61              1          1               1   \n",
      "9997     7.0       0.00              1          0               1   \n",
      "9998     3.0   75075.31              2          1               0   \n",
      "9999     NaN  130142.79              1          1               0   \n",
      "\n",
      "      EstimatedSalary  Exited  \n",
      "0           101348.88       1  \n",
      "1           112542.58       0  \n",
      "2           113931.57       1  \n",
      "3            93826.63       0  \n",
      "4            79084.10       0  \n",
      "...               ...     ...  \n",
      "9995         96270.64       0  \n",
      "9996        101699.77       0  \n",
      "9997         42085.58       1  \n",
      "9998         92888.52       1  \n",
      "9999         38190.78       0  \n",
      "\n",
      "[10000 rows x 14 columns]\n",
      "<class 'pandas.core.frame.DataFrame'>\n",
      "RangeIndex: 10000 entries, 0 to 9999\n",
      "Data columns (total 14 columns):\n",
      " #   Column           Non-Null Count  Dtype  \n",
      "---  ------           --------------  -----  \n",
      " 0   RowNumber        10000 non-null  int64  \n",
      " 1   CustomerId       10000 non-null  int64  \n",
      " 2   Surname          10000 non-null  object \n",
      " 3   CreditScore      10000 non-null  int64  \n",
      " 4   Geography        10000 non-null  object \n",
      " 5   Gender           10000 non-null  object \n",
      " 6   Age              10000 non-null  int64  \n",
      " 7   Tenure           9091 non-null   float64\n",
      " 8   Balance          10000 non-null  float64\n",
      " 9   NumOfProducts    10000 non-null  int64  \n",
      " 10  HasCrCard        10000 non-null  int64  \n",
      " 11  IsActiveMember   10000 non-null  int64  \n",
      " 12  EstimatedSalary  10000 non-null  float64\n",
      " 13  Exited           10000 non-null  int64  \n",
      "dtypes: float64(3), int64(8), object(3)\n",
      "memory usage: 976.6+ KB\n",
      "      RowNumber  CustomerId    Surname  CreditScore Geography  Gender  Age  \\\n",
      "0             1    15634602   Hargrave          619    France  Female   42   \n",
      "1             2    15647311       Hill          608     Spain  Female   41   \n",
      "2             3    15619304       Onio          502    France  Female   42   \n",
      "3             4    15701354       Boni          699    France  Female   39   \n",
      "4             5    15737888   Mitchell          850     Spain  Female   43   \n",
      "...         ...         ...        ...          ...       ...     ...  ...   \n",
      "9995       9996    15606229   Obijiaku          771    France    Male   39   \n",
      "9996       9997    15569892  Johnstone          516    France    Male   35   \n",
      "9997       9998    15584532        Liu          709    France  Female   36   \n",
      "9998       9999    15682355  Sabbatini          772   Germany    Male   42   \n",
      "9999      10000    15628319     Walker          792    France  Female   28   \n",
      "\n",
      "      Tenure    Balance  NumOfProducts  HasCrCard  IsActiveMember  \\\n",
      "0        2.0       0.00              1          1               1   \n",
      "1        1.0   83807.86              1          0               1   \n",
      "2        8.0  159660.80              3          1               0   \n",
      "3        1.0       0.00              2          0               0   \n",
      "4        2.0  125510.82              1          1               1   \n",
      "...      ...        ...            ...        ...             ...   \n",
      "9995     5.0       0.00              2          1               0   \n",
      "9996    10.0   57369.61              1          1               1   \n",
      "9997     7.0       0.00              1          0               1   \n",
      "9998     3.0   75075.31              2          1               0   \n",
      "9999     NaN  130142.79              1          1               0   \n",
      "\n",
      "      EstimatedSalary  Exited  \n",
      "0           101348.88       1  \n",
      "1           112542.58       0  \n",
      "2           113931.57       1  \n",
      "3            93826.63       0  \n",
      "4            79084.10       0  \n",
      "...               ...     ...  \n",
      "9995         96270.64       0  \n",
      "9996        101699.77       0  \n",
      "9997         42085.58       1  \n",
      "9998         92888.52       1  \n",
      "9999         38190.78       0  \n",
      "\n",
      "[10000 rows x 14 columns]\n"
     ]
    }
   ],
   "source": [
    "for i in data:\n",
    "    \n",
    "    data.describe()\n",
    "    \n",
    "    data.info()\n",
    "    \n",
    "    data.isna().mean()\n",
    "    \n",
    "    print(data)    "
   ]
  },
  {
   "cell_type": "markdown",
   "id": "83a4a6d9",
   "metadata": {},
   "source": [
    "We only have missing values in the Tenure(0.09) column. There is relatively few missing values (less than 10%) so we proceed to remove it from the dataset."
   ]
  },
  {
   "cell_type": "code",
   "execution_count": 10,
   "id": "f7e1465c",
   "metadata": {},
   "outputs": [],
   "source": [
    "data = data.dropna(subset=['Tenure'], inplace=False)"
   ]
  },
  {
   "cell_type": "markdown",
   "id": "bf5c039f",
   "metadata": {},
   "source": [
    "The data types seem to be fine, so we're leaving them as they are. However, we're going to change the column names to match python's stylistic standards."
   ]
  },
  {
   "cell_type": "code",
   "execution_count": 11,
   "id": "ba3b030c",
   "metadata": {},
   "outputs": [],
   "source": [
    "data.columns = data.columns.str.lower()"
   ]
  },
  {
   "cell_type": "markdown",
   "id": "18572bf6",
   "metadata": {},
   "source": [
    "We remove those columns that are not relevant to the analysis."
   ]
  },
  {
   "cell_type": "code",
   "execution_count": 12,
   "id": "ba386712",
   "metadata": {},
   "outputs": [],
   "source": [
    "data.drop([\"rownumber\", \"customerid\", \"surname\"], axis=1, inplace=True)"
   ]
  },
  {
   "cell_type": "code",
   "execution_count": 14,
   "id": "62f408f9",
   "metadata": {},
   "outputs": [],
   "source": [
    "data = data.rename(columns={\n",
    " \n",
    "    'creditscore':'credit_score', \n",
    "    \n",
    "    'numofproducts':'num_of_products',\n",
    "     \n",
    "    'hascrcard': 'has_cr_card',\n",
    "\n",
    "    'isactivemember': 'is_active_member',\n",
    "    \n",
    "     'estimatedsalary': 'estimated_salary'})"
   ]
  },
  {
   "cell_type": "code",
   "execution_count": 15,
   "id": "a638fbfb",
   "metadata": {},
   "outputs": [
    {
     "data": {
      "text/html": [
       "<div>\n",
       "<style scoped>\n",
       "    .dataframe tbody tr th:only-of-type {\n",
       "        vertical-align: middle;\n",
       "    }\n",
       "\n",
       "    .dataframe tbody tr th {\n",
       "        vertical-align: top;\n",
       "    }\n",
       "\n",
       "    .dataframe thead th {\n",
       "        text-align: right;\n",
       "    }\n",
       "</style>\n",
       "<table border=\"1\" class=\"dataframe\">\n",
       "  <thead>\n",
       "    <tr style=\"text-align: right;\">\n",
       "      <th></th>\n",
       "      <th>credit_score</th>\n",
       "      <th>geography</th>\n",
       "      <th>gender</th>\n",
       "      <th>age</th>\n",
       "      <th>tenure</th>\n",
       "      <th>balance</th>\n",
       "      <th>num_of_products</th>\n",
       "      <th>has_cr_card</th>\n",
       "      <th>is_active_member</th>\n",
       "      <th>estimated_salary</th>\n",
       "      <th>exited</th>\n",
       "    </tr>\n",
       "  </thead>\n",
       "  <tbody>\n",
       "    <tr>\n",
       "      <th>0</th>\n",
       "      <td>619</td>\n",
       "      <td>France</td>\n",
       "      <td>Female</td>\n",
       "      <td>42</td>\n",
       "      <td>2.0</td>\n",
       "      <td>0.00</td>\n",
       "      <td>1</td>\n",
       "      <td>1</td>\n",
       "      <td>1</td>\n",
       "      <td>101348.88</td>\n",
       "      <td>1</td>\n",
       "    </tr>\n",
       "    <tr>\n",
       "      <th>1</th>\n",
       "      <td>608</td>\n",
       "      <td>Spain</td>\n",
       "      <td>Female</td>\n",
       "      <td>41</td>\n",
       "      <td>1.0</td>\n",
       "      <td>83807.86</td>\n",
       "      <td>1</td>\n",
       "      <td>0</td>\n",
       "      <td>1</td>\n",
       "      <td>112542.58</td>\n",
       "      <td>0</td>\n",
       "    </tr>\n",
       "    <tr>\n",
       "      <th>2</th>\n",
       "      <td>502</td>\n",
       "      <td>France</td>\n",
       "      <td>Female</td>\n",
       "      <td>42</td>\n",
       "      <td>8.0</td>\n",
       "      <td>159660.80</td>\n",
       "      <td>3</td>\n",
       "      <td>1</td>\n",
       "      <td>0</td>\n",
       "      <td>113931.57</td>\n",
       "      <td>1</td>\n",
       "    </tr>\n",
       "    <tr>\n",
       "      <th>3</th>\n",
       "      <td>699</td>\n",
       "      <td>France</td>\n",
       "      <td>Female</td>\n",
       "      <td>39</td>\n",
       "      <td>1.0</td>\n",
       "      <td>0.00</td>\n",
       "      <td>2</td>\n",
       "      <td>0</td>\n",
       "      <td>0</td>\n",
       "      <td>93826.63</td>\n",
       "      <td>0</td>\n",
       "    </tr>\n",
       "    <tr>\n",
       "      <th>4</th>\n",
       "      <td>850</td>\n",
       "      <td>Spain</td>\n",
       "      <td>Female</td>\n",
       "      <td>43</td>\n",
       "      <td>2.0</td>\n",
       "      <td>125510.82</td>\n",
       "      <td>1</td>\n",
       "      <td>1</td>\n",
       "      <td>1</td>\n",
       "      <td>79084.10</td>\n",
       "      <td>0</td>\n",
       "    </tr>\n",
       "  </tbody>\n",
       "</table>\n",
       "</div>"
      ],
      "text/plain": [
       "   credit_score geography  gender  age  tenure    balance  num_of_products  \\\n",
       "0           619    France  Female   42     2.0       0.00                1   \n",
       "1           608     Spain  Female   41     1.0   83807.86                1   \n",
       "2           502    France  Female   42     8.0  159660.80                3   \n",
       "3           699    France  Female   39     1.0       0.00                2   \n",
       "4           850     Spain  Female   43     2.0  125510.82                1   \n",
       "\n",
       "   has_cr_card  is_active_member  estimated_salary  exited  \n",
       "0            1                 1         101348.88       1  \n",
       "1            0                 1         112542.58       0  \n",
       "2            1                 0         113931.57       1  \n",
       "3            0                 0          93826.63       0  \n",
       "4            1                 1          79084.10       0  "
      ]
     },
     "execution_count": 15,
     "metadata": {},
     "output_type": "execute_result"
    }
   ],
   "source": [
    "data.head()"
   ]
  },
  {
   "cell_type": "markdown",
   "id": "31f75de6",
   "metadata": {},
   "source": [
    "Everything looks fine."
   ]
  },
  {
   "cell_type": "markdown",
   "id": "a81f012c",
   "metadata": {},
   "source": [
    "We move on to the one hot encoding phase preprocessing."
   ]
  },
  {
   "cell_type": "code",
   "execution_count": 18,
   "id": "c98376e8",
   "metadata": {},
   "outputs": [],
   "source": [
    "data = pd.get_dummies(data, drop_first=True)"
   ]
  },
  {
   "cell_type": "code",
   "execution_count": 19,
   "id": "82a63a53",
   "metadata": {},
   "outputs": [
    {
     "data": {
      "text/html": [
       "<div>\n",
       "<style scoped>\n",
       "    .dataframe tbody tr th:only-of-type {\n",
       "        vertical-align: middle;\n",
       "    }\n",
       "\n",
       "    .dataframe tbody tr th {\n",
       "        vertical-align: top;\n",
       "    }\n",
       "\n",
       "    .dataframe thead th {\n",
       "        text-align: right;\n",
       "    }\n",
       "</style>\n",
       "<table border=\"1\" class=\"dataframe\">\n",
       "  <thead>\n",
       "    <tr style=\"text-align: right;\">\n",
       "      <th></th>\n",
       "      <th>credit_score</th>\n",
       "      <th>age</th>\n",
       "      <th>tenure</th>\n",
       "      <th>balance</th>\n",
       "      <th>num_of_products</th>\n",
       "      <th>has_cr_card</th>\n",
       "      <th>is_active_member</th>\n",
       "      <th>estimated_salary</th>\n",
       "      <th>exited</th>\n",
       "      <th>geography_Germany</th>\n",
       "      <th>geography_Spain</th>\n",
       "      <th>gender_Male</th>\n",
       "    </tr>\n",
       "  </thead>\n",
       "  <tbody>\n",
       "    <tr>\n",
       "      <th>0</th>\n",
       "      <td>619</td>\n",
       "      <td>42</td>\n",
       "      <td>2.0</td>\n",
       "      <td>0.00</td>\n",
       "      <td>1</td>\n",
       "      <td>1</td>\n",
       "      <td>1</td>\n",
       "      <td>101348.88</td>\n",
       "      <td>1</td>\n",
       "      <td>0</td>\n",
       "      <td>0</td>\n",
       "      <td>0</td>\n",
       "    </tr>\n",
       "    <tr>\n",
       "      <th>1</th>\n",
       "      <td>608</td>\n",
       "      <td>41</td>\n",
       "      <td>1.0</td>\n",
       "      <td>83807.86</td>\n",
       "      <td>1</td>\n",
       "      <td>0</td>\n",
       "      <td>1</td>\n",
       "      <td>112542.58</td>\n",
       "      <td>0</td>\n",
       "      <td>0</td>\n",
       "      <td>1</td>\n",
       "      <td>0</td>\n",
       "    </tr>\n",
       "    <tr>\n",
       "      <th>2</th>\n",
       "      <td>502</td>\n",
       "      <td>42</td>\n",
       "      <td>8.0</td>\n",
       "      <td>159660.80</td>\n",
       "      <td>3</td>\n",
       "      <td>1</td>\n",
       "      <td>0</td>\n",
       "      <td>113931.57</td>\n",
       "      <td>1</td>\n",
       "      <td>0</td>\n",
       "      <td>0</td>\n",
       "      <td>0</td>\n",
       "    </tr>\n",
       "    <tr>\n",
       "      <th>3</th>\n",
       "      <td>699</td>\n",
       "      <td>39</td>\n",
       "      <td>1.0</td>\n",
       "      <td>0.00</td>\n",
       "      <td>2</td>\n",
       "      <td>0</td>\n",
       "      <td>0</td>\n",
       "      <td>93826.63</td>\n",
       "      <td>0</td>\n",
       "      <td>0</td>\n",
       "      <td>0</td>\n",
       "      <td>0</td>\n",
       "    </tr>\n",
       "    <tr>\n",
       "      <th>4</th>\n",
       "      <td>850</td>\n",
       "      <td>43</td>\n",
       "      <td>2.0</td>\n",
       "      <td>125510.82</td>\n",
       "      <td>1</td>\n",
       "      <td>1</td>\n",
       "      <td>1</td>\n",
       "      <td>79084.10</td>\n",
       "      <td>0</td>\n",
       "      <td>0</td>\n",
       "      <td>1</td>\n",
       "      <td>0</td>\n",
       "    </tr>\n",
       "  </tbody>\n",
       "</table>\n",
       "</div>"
      ],
      "text/plain": [
       "   credit_score  age  tenure    balance  num_of_products  has_cr_card  \\\n",
       "0           619   42     2.0       0.00                1            1   \n",
       "1           608   41     1.0   83807.86                1            0   \n",
       "2           502   42     8.0  159660.80                3            1   \n",
       "3           699   39     1.0       0.00                2            0   \n",
       "4           850   43     2.0  125510.82                1            1   \n",
       "\n",
       "   is_active_member  estimated_salary  exited  geography_Germany  \\\n",
       "0                 1         101348.88       1                  0   \n",
       "1                 1         112542.58       0                  0   \n",
       "2                 0         113931.57       1                  0   \n",
       "3                 0          93826.63       0                  0   \n",
       "4                 1          79084.10       0                  0   \n",
       "\n",
       "   geography_Spain  gender_Male  \n",
       "0                0            0  \n",
       "1                1            0  \n",
       "2                0            0  \n",
       "3                0            0  \n",
       "4                1            0  "
      ]
     },
     "execution_count": 19,
     "metadata": {},
     "output_type": "execute_result"
    }
   ],
   "source": [
    "data.head()"
   ]
  },
  {
   "cell_type": "markdown",
   "id": "f81ecabd",
   "metadata": {},
   "source": [
    "Looks good!"
   ]
  },
  {
   "cell_type": "markdown",
   "id": "7ffb3ed4",
   "metadata": {},
   "source": [
    "We divide the initial data into three samples:\n",
    "\n",
    "- Training sample: 60% (features_train, target_train)\n",
    "\n",
    "- Validation sample: 20% (features_valid, target_valid)\n",
    "\n",
    "- Test sample: 20% (features_test, target_test)"
   ]
  },
  {
   "cell_type": "code",
   "execution_count": 20,
   "id": "2913d858",
   "metadata": {},
   "outputs": [],
   "source": [
    "features = data.drop('exited', axis=1)\n",
    "\n",
    "target = data['exited']"
   ]
  },
  {
   "cell_type": "code",
   "execution_count": 21,
   "id": "09ca9a55",
   "metadata": {},
   "outputs": [],
   "source": [
    "features_train, features_test0, target_train, target_test0 = train_test_split(\n",
    "    \n",
    "    features, target, \n",
    "                                                                              \n",
    "    test_size=0.4, \n",
    "                                                                              \n",
    "    random_state=1)"
   ]
  },
  {
   "cell_type": "code",
   "execution_count": 22,
   "id": "32627b4f",
   "metadata": {},
   "outputs": [],
   "source": [
    "features_valid, features_test, target_valid, target_test = train_test_split(\n",
    "    \n",
    "    features_test0, \n",
    "                                                                                                                                                    \n",
    "    target_test0, \n",
    "                                                                                                                                                    \n",
    "    test_size=0.5, \n",
    "                                                                                                                                                    \n",
    "    random_state=1)"
   ]
  },
  {
   "cell_type": "code",
   "execution_count": 24,
   "id": "5c069a49",
   "metadata": {},
   "outputs": [
    {
     "name": "stdout",
     "output_type": "stream",
     "text": [
      "(5454, 11) (5454,) (1818, 11) (1818,) (1819, 11) (1819,)\n"
     ]
    }
   ],
   "source": [
    "print(features_train.shape, \n",
    "      \n",
    "      target_train.shape, \n",
    "      \n",
    "      features_valid.shape, \n",
    "      \n",
    "      target_valid.shape, \n",
    "      \n",
    "      features_test.shape, \n",
    "      \n",
    "      target_test.shape)"
   ]
  },
  {
   "cell_type": "markdown",
   "id": "09032d92",
   "metadata": {},
   "source": [
    "The shape seems to be correct."
   ]
  },
  {
   "cell_type": "markdown",
   "id": "59769084",
   "metadata": {},
   "source": [
    "Let's start standardizing signs, to do that we will create a list with the names of the columns that we are interested in standardizing."
   ]
  },
  {
   "cell_type": "code",
   "execution_count": 25,
   "id": "2716bd10",
   "metadata": {},
   "outputs": [],
   "source": [
    "numeric = [\n",
    "    \n",
    "    'credit_score', \n",
    "    \n",
    "    'age', \n",
    "    \n",
    "    'tenure', \n",
    "    \n",
    "    'num_of_products', \n",
    "    \n",
    "    'balance', \n",
    "    \n",
    "    'estimated_salary'\n",
    "]"
   ]
  },
  {
   "cell_type": "code",
   "execution_count": 26,
   "id": "a163e953",
   "metadata": {},
   "outputs": [],
   "source": [
    "pd.options.mode.chained_assignment = None"
   ]
  },
  {
   "cell_type": "code",
   "execution_count": 27,
   "id": "1102f8af",
   "metadata": {},
   "outputs": [
    {
     "data": {
      "text/plain": [
       "StandardScaler()"
      ]
     },
     "execution_count": 27,
     "metadata": {},
     "output_type": "execute_result"
    }
   ],
   "source": [
    "scaler = StandardScaler()\n",
    "\n",
    "scaler.fit(features_train[numeric]) "
   ]
  },
  {
   "cell_type": "code",
   "execution_count": 28,
   "id": "2ecdb0cd",
   "metadata": {},
   "outputs": [],
   "source": [
    "features_train[numeric] = scaler.transform(features_train[numeric])\n",
    "\n",
    "features_valid[numeric] = scaler.transform(features_valid[numeric])\n",
    "\n",
    "features_test[numeric] = scaler.transform(features_test[numeric])"
   ]
  },
  {
   "cell_type": "code",
   "execution_count": 29,
   "id": "db23ae73",
   "metadata": {},
   "outputs": [
    {
     "data": {
      "text/html": [
       "<div>\n",
       "<style scoped>\n",
       "    .dataframe tbody tr th:only-of-type {\n",
       "        vertical-align: middle;\n",
       "    }\n",
       "\n",
       "    .dataframe tbody tr th {\n",
       "        vertical-align: top;\n",
       "    }\n",
       "\n",
       "    .dataframe thead th {\n",
       "        text-align: right;\n",
       "    }\n",
       "</style>\n",
       "<table border=\"1\" class=\"dataframe\">\n",
       "  <thead>\n",
       "    <tr style=\"text-align: right;\">\n",
       "      <th></th>\n",
       "      <th>credit_score</th>\n",
       "      <th>age</th>\n",
       "      <th>tenure</th>\n",
       "      <th>balance</th>\n",
       "      <th>num_of_products</th>\n",
       "      <th>has_cr_card</th>\n",
       "      <th>is_active_member</th>\n",
       "      <th>estimated_salary</th>\n",
       "      <th>geography_Germany</th>\n",
       "      <th>geography_Spain</th>\n",
       "      <th>gender_Male</th>\n",
       "    </tr>\n",
       "  </thead>\n",
       "  <tbody>\n",
       "    <tr>\n",
       "      <th>6211</th>\n",
       "      <td>-1.548236</td>\n",
       "      <td>0.098891</td>\n",
       "      <td>0.700588</td>\n",
       "      <td>0.649101</td>\n",
       "      <td>-0.904733</td>\n",
       "      <td>0</td>\n",
       "      <td>0</td>\n",
       "      <td>1.667344</td>\n",
       "      <td>1</td>\n",
       "      <td>0</td>\n",
       "      <td>0</td>\n",
       "    </tr>\n",
       "    <tr>\n",
       "      <th>7540</th>\n",
       "      <td>-1.017557</td>\n",
       "      <td>-0.185978</td>\n",
       "      <td>-1.381516</td>\n",
       "      <td>-1.238754</td>\n",
       "      <td>-0.904733</td>\n",
       "      <td>1</td>\n",
       "      <td>0</td>\n",
       "      <td>-1.229687</td>\n",
       "      <td>0</td>\n",
       "      <td>0</td>\n",
       "      <td>1</td>\n",
       "    </tr>\n",
       "    <tr>\n",
       "      <th>129</th>\n",
       "      <td>1.240430</td>\n",
       "      <td>-1.420411</td>\n",
       "      <td>1.394623</td>\n",
       "      <td>0.400016</td>\n",
       "      <td>-0.904733</td>\n",
       "      <td>1</td>\n",
       "      <td>0</td>\n",
       "      <td>1.160293</td>\n",
       "      <td>0</td>\n",
       "      <td>0</td>\n",
       "      <td>1</td>\n",
       "    </tr>\n",
       "    <tr>\n",
       "      <th>3298</th>\n",
       "      <td>-0.965530</td>\n",
       "      <td>-1.325455</td>\n",
       "      <td>1.741641</td>\n",
       "      <td>0.553486</td>\n",
       "      <td>0.811585</td>\n",
       "      <td>1</td>\n",
       "      <td>0</td>\n",
       "      <td>1.684571</td>\n",
       "      <td>1</td>\n",
       "      <td>0</td>\n",
       "      <td>1</td>\n",
       "    </tr>\n",
       "    <tr>\n",
       "      <th>9653</th>\n",
       "      <td>-1.288099</td>\n",
       "      <td>1.808106</td>\n",
       "      <td>-0.687481</td>\n",
       "      <td>0.971202</td>\n",
       "      <td>-0.904733</td>\n",
       "      <td>1</td>\n",
       "      <td>1</td>\n",
       "      <td>0.442025</td>\n",
       "      <td>1</td>\n",
       "      <td>0</td>\n",
       "      <td>1</td>\n",
       "    </tr>\n",
       "  </tbody>\n",
       "</table>\n",
       "</div>"
      ],
      "text/plain": [
       "      credit_score       age    tenure   balance  num_of_products  \\\n",
       "6211     -1.548236  0.098891  0.700588  0.649101        -0.904733   \n",
       "7540     -1.017557 -0.185978 -1.381516 -1.238754        -0.904733   \n",
       "129       1.240430 -1.420411  1.394623  0.400016        -0.904733   \n",
       "3298     -0.965530 -1.325455  1.741641  0.553486         0.811585   \n",
       "9653     -1.288099  1.808106 -0.687481  0.971202        -0.904733   \n",
       "\n",
       "      has_cr_card  is_active_member  estimated_salary  geography_Germany  \\\n",
       "6211            0                 0          1.667344                  1   \n",
       "7540            1                 0         -1.229687                  0   \n",
       "129             1                 0          1.160293                  0   \n",
       "3298            1                 0          1.684571                  1   \n",
       "9653            1                 1          0.442025                  1   \n",
       "\n",
       "      geography_Spain  gender_Male  \n",
       "6211                0            0  \n",
       "7540                0            1  \n",
       "129                 0            1  \n",
       "3298                0            1  \n",
       "9653                0            1  "
      ]
     },
     "metadata": {},
     "output_type": "display_data"
    }
   ],
   "source": [
    "display(features_train.head())"
   ]
  },
  {
   "cell_type": "markdown",
   "id": "8c0a6b91",
   "metadata": {},
   "source": [
    "In this first section, we explored the variables in the dataset and dealt with missing values.\n",
    "\n",
    "In addition, we adapted the python-style column names, lowercase letters and snake case.\n",
    "\n",
    "We also applied the one hot encoder method to be able to better process the data in the next stages of the study.\n",
    "\n",
    "As a preliminary step in the training phase of the model, we divided the dataset into three parts: train, validate, and test.\n",
    "\n",
    "Finally, we converted the categorical variables into numbers so that the program could read them correctly, thus completing the data preparation."
   ]
  },
  {
   "cell_type": "markdown",
   "id": "e2fb765d",
   "metadata": {},
   "source": [
    "# Task research"
   ]
  },
  {
   "cell_type": "markdown",
   "id": "576558fa",
   "metadata": {},
   "source": [
    "We start choosing the best model out of three: DecisionTreeClassifier, RandomForestClassifier, LogisticRegression.\n",
    "\n",
    "First we are going to explore the best implementation depth of models."
   ]
  },
  {
   "cell_type": "code",
   "execution_count": 30,
   "id": "a18e8b7c",
   "metadata": {},
   "outputs": [
    {
     "name": "stdout",
     "output_type": "stream",
     "text": [
      "max_depth = 1 : 0.0\n",
      "max_depth = 2 : 0.4657039711191336\n",
      "max_depth = 3 : 0.45818181818181813\n",
      "max_depth = 4 : 0.36942675159235666\n",
      "max_depth = 5 : 0.4132231404958678\n",
      "max_depth = 6 : 0.49084249084249076\n",
      "max_depth = 7 : 0.5064220183486238\n",
      "max_depth = 8 : 0.4957264957264957\n",
      "max_depth = 9 : 0.4777070063694268\n",
      "max_depth = 10 : 0.5039619651347068\n"
     ]
    }
   ],
   "source": [
    "for depth in range(1, 11):\n",
    "    \n",
    "    model_tree = DecisionTreeClassifier(\n",
    "        \n",
    "        random_state=12345, \n",
    "        \n",
    "        splitter='best', \n",
    "        \n",
    "        max_depth = depth) \n",
    "    \n",
    "    model_tree.fit(features_train, target_train)\n",
    "    \n",
    "    predictions_valid = model_tree.predict(features_valid)  \n",
    "    \n",
    "    print('max_depth =', depth, ': ', end ='')\n",
    "    \n",
    "    print(f1_score(target_valid, predictions_valid))"
   ]
  },
  {
   "cell_type": "markdown",
   "id": "ecb5d7d0",
   "metadata": {},
   "source": [
    "Depth 7 is the one that works best for the tree model. We are going to apply it for F1 and Auc Roc."
   ]
  },
  {
   "cell_type": "code",
   "execution_count": 31,
   "id": "b6f4531b",
   "metadata": {},
   "outputs": [
    {
     "name": "stdout",
     "output_type": "stream",
     "text": [
      "0.5064220183486238\n"
     ]
    }
   ],
   "source": [
    "model = DecisionTreeClassifier(max_depth = 7, random_state=12345)\n",
    "\n",
    "model.fit(features_train, target_train)\n",
    "\n",
    "predicted_valid_tree = model.predict(features_valid)\n",
    "\n",
    "print(f1_score(target_valid, predicted_valid_tree))"
   ]
  },
  {
   "cell_type": "code",
   "execution_count": 33,
   "id": "0db25417",
   "metadata": {},
   "outputs": [
    {
     "name": "stdout",
     "output_type": "stream",
     "text": [
      "0.8021889412060447\n"
     ]
    }
   ],
   "source": [
    "model = DecisionTreeClassifier(max_depth = 7, random_state=12345)\n",
    "\n",
    "model.fit(features_train, target_train)\n",
    "\n",
    "probabilities_valid_tree = model.predict_proba(features_valid)\n",
    "\n",
    "probabilities_one_valid_tree = probabilities_valid_tree[:, 1]\n",
    "\n",
    "auc_roc=roc_auc_score(target_valid, probabilities_one_valid_tree)\n",
    "\n",
    "print(auc_roc)"
   ]
  },
  {
   "cell_type": "markdown",
   "id": "6c1478df",
   "metadata": {},
   "source": [
    "We continue the same steps with the forest model, but this time with two nested loops."
   ]
  },
  {
   "cell_type": "code",
   "execution_count": 34,
   "id": "dc780e1d",
   "metadata": {},
   "outputs": [
    {
     "name": "stdout",
     "output_type": "stream",
     "text": [
      "Number of trees: 30\n",
      "Best tree depth: 10\n",
      "F1: 0.5330882352941176\n"
     ]
    }
   ],
   "source": [
    "best_model = None\n",
    "best_result = 0\n",
    "best_est = 0\n",
    "best_depth = 0\n",
    "\n",
    "for est in range(10, 51, 10):\n",
    "    \n",
    "    for depth in range(1, 11):\n",
    "        \n",
    "        model_forest = RandomForestClassifier(random_state=12345, n_estimators=est, max_depth=depth)\n",
    "        \n",
    "        model_forest.fit(features_train, target_train)\n",
    "        \n",
    "        predictions_valid = model_forest.predict(features_valid)\n",
    "        \n",
    "        result = f1_score(target_valid, predictions_valid)\n",
    "    \n",
    "        if result > best_result:\n",
    "            \n",
    "            best_model = model_forest\n",
    "            \n",
    "            best_result = result\n",
    "            \n",
    "            best_est = est\n",
    "            \n",
    "            best_depth = depth\n",
    "            \n",
    "print(\"Number of trees:\", best_est)\n",
    "\n",
    "print(\"Best tree depth:\", best_depth)\n",
    "\n",
    "print(\"F1:\", best_result)"
   ]
  },
  {
   "cell_type": "markdown",
   "id": "308b6f62",
   "metadata": {},
   "source": [
    "We apply optimal parameters to the model to train it."
   ]
  },
  {
   "cell_type": "code",
   "execution_count": 35,
   "id": "c8b61cf0",
   "metadata": {},
   "outputs": [
    {
     "name": "stdout",
     "output_type": "stream",
     "text": [
      "0.8479768730240066\n"
     ]
    }
   ],
   "source": [
    "model = RandomForestClassifier(random_state=12345, n_estimators=30, max_depth=10)\n",
    "\n",
    "model.fit(features_train, target_train)\n",
    "\n",
    "probabilities_valid_forest = model.predict_proba(features_valid)\n",
    "\n",
    "probabilities_one_valid_forest = probabilities_valid_forest[:, 1]\n",
    "\n",
    "auc_roc=roc_auc_score(target_valid, probabilities_one_valid_forest)\n",
    "\n",
    "print(auc_roc)"
   ]
  },
  {
   "cell_type": "markdown",
   "id": "8476670a",
   "metadata": {},
   "source": [
    "As we can see, the forest model performs better than the tree model in the two measures studied."
   ]
  },
  {
   "cell_type": "code",
   "execution_count": 36,
   "id": "7ba15c02",
   "metadata": {},
   "outputs": [
    {
     "name": "stdout",
     "output_type": "stream",
     "text": [
      "0.2594142259414226\n"
     ]
    }
   ],
   "source": [
    "model = LogisticRegression(random_state=12345, solver='liblinear')\n",
    "\n",
    "model.fit(features_train, target_train)\n",
    "\n",
    "predicted_valid_lr = model.predict(features_valid)\n",
    "\n",
    "print(f1_score(target_valid, predicted_valid_lr))"
   ]
  },
  {
   "cell_type": "code",
   "execution_count": 37,
   "id": "81f0e9cd",
   "metadata": {},
   "outputs": [
    {
     "name": "stdout",
     "output_type": "stream",
     "text": [
      "0.7561360933587291\n"
     ]
    }
   ],
   "source": [
    "model = LogisticRegression(random_state=12345, solver='liblinear')\n",
    "\n",
    "model.fit(features_train, target_train)\n",
    "\n",
    "probabilities_valid_lr = model.predict_proba(features_valid)\n",
    "\n",
    "probabilities_one_valid_lr = probabilities_valid_lr[:, 1]\n",
    "\n",
    "auc_roc=roc_auc_score(target_valid, probabilities_one_valid_lr)\n",
    "\n",
    "print(auc_roc)"
   ]
  },
  {
   "cell_type": "markdown",
   "id": "69f19503",
   "metadata": {},
   "source": [
    "The logistic regression model is the one that performs the worst."
   ]
  },
  {
   "cell_type": "markdown",
   "id": "e2851589",
   "metadata": {},
   "source": [
    "# Fighting the imbalance"
   ]
  },
  {
   "cell_type": "markdown",
   "id": "85371fda",
   "metadata": {},
   "source": [
    "Let's see how distributed the data is."
   ]
  },
  {
   "cell_type": "code",
   "execution_count": 38,
   "id": "f3229970",
   "metadata": {},
   "outputs": [
    {
     "name": "stdout",
     "output_type": "stream",
     "text": [
      "0    0.796062\n",
      "1    0.203938\n",
      "Name: exited, dtype: float64\n"
     ]
    }
   ],
   "source": [
    "freq = data['exited'].value_counts(normalize=True)\n",
    "\n",
    "print(freq)"
   ]
  },
  {
   "cell_type": "code",
   "execution_count": 39,
   "id": "e3c25ef5",
   "metadata": {},
   "outputs": [
    {
     "data": {
      "text/plain": [
       "<AxesSubplot:>"
      ]
     },
     "execution_count": 39,
     "metadata": {},
     "output_type": "execute_result"
    },
    {
     "data": {
      "image/png": "[encoded data removed]",
      "text/plain": [
       "<Figure size 432x288 with 1 Axes>"
      ]
     },
     "metadata": {
      "needs_background": "light"
     },
     "output_type": "display_data"
    }
   ],
   "source": [
    "freq.plot(kind='bar')"
   ]
  },
  {
   "cell_type": "code",
   "execution_count": 40,
   "id": "d607ca36",
   "metadata": {},
   "outputs": [
    {
     "name": "stdout",
     "output_type": "stream",
     "text": [
      "0    0.794096\n",
      "1    0.205904\n",
      "Name: exited, dtype: float64\n"
     ]
    }
   ],
   "source": [
    "freq_train = target_train.value_counts(normalize=True)\n",
    "\n",
    "print(freq_train)"
   ]
  },
  {
   "cell_type": "code",
   "execution_count": 41,
   "id": "f4d2ef22",
   "metadata": {},
   "outputs": [
    {
     "data": {
      "text/plain": [
       "<AxesSubplot:>"
      ]
     },
     "execution_count": 41,
     "metadata": {},
     "output_type": "execute_result"
    },
    {
     "data": {
      "image/png": "[encoded data removed]",
      "text/plain": [
       "<Figure size 432x288 with 1 Axes>"
      ]
     },
     "metadata": {
      "needs_background": "light"
     },
     "output_type": "display_data"
    }
   ],
   "source": [
    "freq_train.plot(kind='bar')"
   ]
  },
  {
   "cell_type": "code",
   "execution_count": 42,
   "id": "aedb0a00",
   "metadata": {},
   "outputs": [
    {
     "name": "stdout",
     "output_type": "stream",
     "text": [
      "0    0.805831\n",
      "1    0.194169\n",
      "Name: exited, dtype: float64\n"
     ]
    }
   ],
   "source": [
    "freq_valid = target_valid.value_counts(normalize=True)\n",
    "\n",
    "print(freq_valid)"
   ]
  },
  {
   "cell_type": "code",
   "execution_count": 43,
   "id": "c66f5b8e",
   "metadata": {},
   "outputs": [
    {
     "data": {
      "text/plain": [
       "<AxesSubplot:>"
      ]
     },
     "execution_count": 43,
     "metadata": {},
     "output_type": "execute_result"
    },
    {
     "data": {
      "image/png": "[encoded data removed]",
      "text/plain": [
       "<Figure size 432x288 with 1 Axes>"
      ]
     },
     "metadata": {
      "needs_background": "light"
     },
     "output_type": "display_data"
    }
   ],
   "source": [
    "freq_valid.plot(kind='bar')"
   ]
  },
  {
   "cell_type": "markdown",
   "id": "72c2dcc2",
   "metadata": {},
   "source": [
    "We don't see much difference when compared to the target frequencies, a 80/20 ratio."
   ]
  },
  {
   "cell_type": "markdown",
   "id": "fd2f0ceb",
   "metadata": {},
   "source": [
    "We apply the upsample technique to see what it offers us."
   ]
  },
  {
   "cell_type": "code",
   "execution_count": 44,
   "id": "5919419c",
   "metadata": {},
   "outputs": [],
   "source": [
    "def upsample(features, target, repeat):\n",
    "    \n",
    "    features_zeros = features[target == 0]\n",
    "    \n",
    "    features_ones = features[target == 1]\n",
    "    \n",
    "    target_zeros = target[target == 0]\n",
    "    \n",
    "    target_ones = target[target == 1]\n",
    "\n",
    "    features_upsampled = pd.concat([features_zeros] + [features_ones] * repeat)\n",
    "    \n",
    "    target_upsampled = pd.concat([target_zeros] + [target_ones] * repeat)\n",
    "    \n",
    "    features_upsampled, target_upsampled = shuffle(features_upsampled, \n",
    "                                                   \n",
    "                                                   target_upsampled, \n",
    "                                                   \n",
    "                                                   random_state=42)\n",
    "    \n",
    "    return features_upsampled, target_upsampled\n",
    "\n",
    "features_upsampled, target_upsampled = upsample(features_train, target_train, 4)"
   ]
  },
  {
   "cell_type": "code",
   "execution_count": 45,
   "id": "31d82f8a",
   "metadata": {},
   "outputs": [
    {
     "name": "stdout",
     "output_type": "stream",
     "text": [
      "(8823,)\n",
      "1    4492\n",
      "0    4331\n",
      "Name: exited, dtype: int64\n"
     ]
    }
   ],
   "source": [
    "print(target_upsampled.shape)\n",
    "\n",
    "print(target_upsampled.value_counts())"
   ]
  },
  {
   "cell_type": "markdown",
   "id": "9f5ee017",
   "metadata": {},
   "source": [
    "We see how the sample is more balanced with this technique."
   ]
  },
  {
   "cell_type": "markdown",
   "id": "483cc8d4",
   "metadata": {},
   "source": [
    "Now we apply downsampled with the same procedure and the same function scheme."
   ]
  },
  {
   "cell_type": "code",
   "execution_count": 46,
   "id": "6e0e2806",
   "metadata": {},
   "outputs": [],
   "source": [
    "def downsample(features, target, fraction):\n",
    "    \n",
    "    features_zeros = features[target == 0]\n",
    "    \n",
    "    features_ones = features[target == 1]\n",
    "    \n",
    "    target_zeros = target[target == 0]\n",
    "    \n",
    "    target_ones = target[target == 1]\n",
    "\n",
    "    features_downsampled = pd.concat(\n",
    "        \n",
    "        [features_zeros.sample(frac=fraction, random_state=12345)] + [features_ones])\n",
    "    \n",
    "    target_downsampled = pd.concat(\n",
    "        \n",
    "        [target_zeros.sample(frac=fraction, random_state=12345)] + [target_ones])\n",
    "    \n",
    "    features_downsampled, target_downsampled = shuffle(\n",
    "        \n",
    "        features_downsampled, target_downsampled, random_state=42)\n",
    "    \n",
    "    return features_downsampled, target_downsampled\n",
    "\n",
    "features_downsampled, target_downsampled = downsample(features_train, \n",
    "                                                      \n",
    "                                                                  target_train, \n",
    "                                                      \n",
    "                                                      fraction=0.25 \n",
    "                                                       \n",
    "                                                     )"
   ]
  },
  {
   "cell_type": "code",
   "execution_count": 47,
   "id": "bb1620bf",
   "metadata": {},
   "outputs": [
    {
     "name": "stdout",
     "output_type": "stream",
     "text": [
      "(2206,)\n",
      "1    1123\n",
      "0    1083\n",
      "Name: exited, dtype: int64\n"
     ]
    }
   ],
   "source": [
    "print(target_downsampled.shape)\n",
    "\n",
    "print(target_downsampled.value_counts())"
   ]
  },
  {
   "cell_type": "markdown",
   "id": "2f89132f",
   "metadata": {},
   "source": [
    "The sample is balanced and reduced as expected."
   ]
  },
  {
   "cell_type": "markdown",
   "id": "3385121c",
   "metadata": {},
   "source": [
    "We first apply upsample to the tree model and see its performance."
   ]
  },
  {
   "cell_type": "code",
   "execution_count": 48,
   "id": "6c479104",
   "metadata": {},
   "outputs": [
    {
     "name": "stdout",
     "output_type": "stream",
     "text": [
      "0.5508571428571428\n"
     ]
    }
   ],
   "source": [
    "model = DecisionTreeClassifier(max_depth = 7, random_state=12345)\n",
    "\n",
    "model.fit(features_upsampled, target_upsampled)\n",
    "\n",
    "predicted_valid_tree = model.predict(features_valid)\n",
    "\n",
    "print(f1_score(target_valid, predicted_valid_tree))"
   ]
  },
  {
   "cell_type": "markdown",
   "id": "6b898db4",
   "metadata": {},
   "source": [
    "We fall short as our goal is to get at least a 0.59."
   ]
  },
  {
   "cell_type": "code",
   "execution_count": 49,
   "id": "cc8add40",
   "metadata": {},
   "outputs": [
    {
     "name": "stdout",
     "output_type": "stream",
     "text": [
      "0.8035521952257104\n"
     ]
    }
   ],
   "source": [
    "model = DecisionTreeClassifier(max_depth = 7, random_state=12345)\n",
    "\n",
    "model.fit(features_upsampled, target_upsampled)\n",
    "\n",
    "probabilities_valid_tree = model.predict_proba(features_valid)\n",
    "\n",
    "probabilities_one_valid_tree = probabilities_valid_tree[:, 1]\n",
    "\n",
    "auc_roc=roc_auc_score(target_valid, probabilities_one_valid_tree)\n",
    "\n",
    "print(auc_roc)"
   ]
  },
  {
   "cell_type": "markdown",
   "id": "e32c26f4",
   "metadata": {},
   "source": [
    "For auc_roc_score however, this model does not work badly."
   ]
  },
  {
   "cell_type": "markdown",
   "id": "dd1bed10",
   "metadata": {},
   "source": [
    "We follow the same steps for the forest model."
   ]
  },
  {
   "cell_type": "code",
   "execution_count": 51,
   "id": "24fdef55",
   "metadata": {},
   "outputs": [
    {
     "name": "stdout",
     "output_type": "stream",
     "text": [
      "0.6085825747724318\n"
     ]
    }
   ],
   "source": [
    "model = RandomForestClassifier(random_state=12345, n_estimators=30, max_depth=10)\n",
    "\n",
    "model.fit(features_upsampled, target_upsampled)\n",
    "\n",
    "predicted_valid_forest = model.predict(features_valid)\n",
    "\n",
    "print(f1_score(target_valid, predicted_valid_forest))\n"
   ]
  },
  {
   "cell_type": "markdown",
   "id": "26bf8cdc",
   "metadata": {},
   "source": [
    "This model does reach the goal."
   ]
  },
  {
   "cell_type": "code",
   "execution_count": 52,
   "id": "41ea020d",
   "metadata": {},
   "outputs": [
    {
     "name": "stdout",
     "output_type": "stream",
     "text": [
      "0.8385510833518646\n"
     ]
    }
   ],
   "source": [
    "model = RandomForestClassifier(random_state=12345, n_estimators=30, max_depth=10)\n",
    "\n",
    "model.fit(features_upsampled, target_upsampled)\n",
    "\n",
    "probabilities_valid_forest = model.predict_proba(features_valid)\n",
    "\n",
    "probabilities_one_valid_forest = probabilities_valid_forest[:, 1]\n",
    "\n",
    "auc_roc=roc_auc_score(target_valid, probabilities_one_valid_forest)\n",
    "\n",
    "print(auc_roc)\n"
   ]
  },
  {
   "cell_type": "markdown",
   "id": "2f24091b",
   "metadata": {},
   "source": [
    "And performs better in auc_roc metric."
   ]
  },
  {
   "cell_type": "markdown",
   "id": "29ae37b3",
   "metadata": {},
   "source": [
    "No, we take a look to the linear regression model."
   ]
  },
  {
   "cell_type": "code",
   "execution_count": 54,
   "id": "8315d3e5",
   "metadata": {},
   "outputs": [
    {
     "name": "stdout",
     "output_type": "stream",
     "text": [
      "0.4692849949647533\n"
     ]
    }
   ],
   "source": [
    "model = LogisticRegression(random_state=12345, solver='liblinear')\n",
    "\n",
    "model.fit(features_upsampled, target_upsampled)\n",
    "\n",
    "predicted_valid_lr = model.predict(features_valid)\n",
    "\n",
    "print(f1_score(target_valid, predicted_valid_lr))"
   ]
  },
  {
   "cell_type": "code",
   "execution_count": 55,
   "id": "6b95fc06",
   "metadata": {},
   "outputs": [
    {
     "name": "stdout",
     "output_type": "stream",
     "text": [
      "0.7563023910121919\n"
     ]
    }
   ],
   "source": [
    "model = LogisticRegression(random_state=12345, solver='liblinear')\n",
    "\n",
    "model.fit(features_upsampled, target_upsampled)\n",
    "\n",
    "probabilities_valid_lr = model.predict_proba(features_valid)\n",
    "\n",
    "probabilities_one_valid_lr = probabilities_valid_lr[:, 1]\n",
    "\n",
    "auc_roc=roc_auc_score(target_valid, probabilities_one_valid_lr)\n",
    "\n",
    "print(auc_roc)"
   ]
  },
  {
   "cell_type": "markdown",
   "id": "101b6fac",
   "metadata": {},
   "source": [
    "Not very well."
   ]
  },
  {
   "cell_type": "markdown",
   "id": "e3e757dd",
   "metadata": {},
   "source": [
    "Let's take a look at the model tree with downsampling."
   ]
  },
  {
   "cell_type": "code",
   "execution_count": 56,
   "id": "e5c50bab",
   "metadata": {},
   "outputs": [
    {
     "name": "stdout",
     "output_type": "stream",
     "text": [
      "0.5348595213319458\n"
     ]
    }
   ],
   "source": [
    "model = DecisionTreeClassifier(max_depth = 7, random_state=12345)\n",
    "\n",
    "model.fit(features_downsampled, target_downsampled)\n",
    "\n",
    "predicted_valid_tree = model.predict(features_valid)\n",
    "\n",
    "print(f1_score(target_valid, predicted_valid_tree))"
   ]
  },
  {
   "cell_type": "code",
   "execution_count": 57,
   "id": "9f236682",
   "metadata": {},
   "outputs": [
    {
     "name": "stdout",
     "output_type": "stream",
     "text": [
      "0.8158717574374692\n"
     ]
    }
   ],
   "source": [
    "model = DecisionTreeClassifier(max_depth = 7, random_state=12345)\n",
    "\n",
    "model.fit(features_downsampled, target_downsampled)\n",
    "\n",
    "probabilities_valid_tree = model.predict_proba(features_valid)\n",
    "\n",
    "probabilities_one_valid_tree = probabilities_valid_tree[:, 1]\n",
    "\n",
    "auc_roc=roc_auc_score(target_valid, probabilities_one_valid_tree)\n",
    "\n",
    "print(auc_roc)"
   ]
  },
  {
   "cell_type": "markdown",
   "id": "4cbaef04",
   "metadata": {},
   "source": [
    "Not quite."
   ]
  },
  {
   "cell_type": "markdown",
   "id": "34117c95",
   "metadata": {},
   "source": [
    "Now the forest model."
   ]
  },
  {
   "cell_type": "code",
   "execution_count": 59,
   "id": "de45a7b7",
   "metadata": {},
   "outputs": [
    {
     "name": "stdout",
     "output_type": "stream",
     "text": [
      "0.5592105263157895\n"
     ]
    }
   ],
   "source": [
    "model = RandomForestClassifier(random_state=12345, n_estimators=30, max_depth=10)\n",
    "\n",
    "model.fit(features_downsampled, target_downsampled)\n",
    "\n",
    "predicted_valid_forest = model.predict(features_valid)\n",
    "\n",
    "print(f1_score(target_valid, predicted_valid_forest))"
   ]
  },
  {
   "cell_type": "code",
   "execution_count": 58,
   "id": "73e1ef24",
   "metadata": {},
   "outputs": [
    {
     "name": "stdout",
     "output_type": "stream",
     "text": [
      "0.8374633806765994\n"
     ]
    }
   ],
   "source": [
    "model = RandomForestClassifier(random_state=12345, n_estimators=30, max_depth=10)\n",
    "\n",
    "model.fit(features_downsampled, target_downsampled)\n",
    "\n",
    "probabilities_valid_forest = model.predict_proba(features_valid)\n",
    "\n",
    "probabilities_one_valid_forest = probabilities_valid_forest[:, 1]\n",
    "\n",
    "auc_roc=roc_auc_score(target_valid, probabilities_one_valid_forest)\n",
    "\n",
    "print(auc_roc)"
   ]
  },
  {
   "cell_type": "markdown",
   "id": "4ce74bff",
   "metadata": {},
   "source": [
    "The f1_score does not reach what is required."
   ]
  },
  {
   "cell_type": "code",
   "execution_count": 60,
   "id": "2a93ccb3",
   "metadata": {},
   "outputs": [
    {
     "name": "stdout",
     "output_type": "stream",
     "text": [
      "0.4724724724724725\n"
     ]
    }
   ],
   "source": [
    "model = LogisticRegression(random_state=12345, solver='liblinear')\n",
    "\n",
    "model.fit(features_downsampled, target_downsampled)\n",
    "\n",
    "predicted_valid_lr = model.predict(features_valid)\n",
    "\n",
    "print(f1_score(target_valid, predicted_valid_lr))"
   ]
  },
  {
   "cell_type": "code",
   "execution_count": 61,
   "id": "e168c1fb",
   "metadata": {},
   "outputs": [
    {
     "name": "stdout",
     "output_type": "stream",
     "text": [
      "0.7542797474596101\n"
     ]
    }
   ],
   "source": [
    "model = LogisticRegression(random_state=12345, solver='liblinear')\n",
    "\n",
    "model.fit(features_downsampled, target_downsampled)\n",
    "\n",
    "probabilities_valid_lr = model.predict_proba(features_valid)\n",
    "\n",
    "probabilities_one_valid_lr = probabilities_valid_lr[:, 1]\n",
    "\n",
    "auc_roc=roc_auc_score(target_valid, probabilities_one_valid_lr)\n",
    "\n",
    "print(auc_roc)"
   ]
  },
  {
   "cell_type": "markdown",
   "id": "ec13efd0",
   "metadata": {},
   "source": [
    "The regression model even less so."
   ]
  },
  {
   "cell_type": "markdown",
   "id": "b6335cfe",
   "metadata": {},
   "source": [
    "After balancing with downsampling and upsampling methods, we can see how the scores improve across all models. We also see how we get the best results with the upsampling method. However, the model that shows the most performance is the random forest model, and that is what we are going to test to see if it fits the most optimal conditions."
   ]
  },
  {
   "cell_type": "markdown",
   "id": "1b59f427",
   "metadata": {},
   "source": [
    "# Testing the model"
   ]
  },
  {
   "cell_type": "code",
   "execution_count": 62,
   "id": "b21c30bb",
   "metadata": {},
   "outputs": [
    {
     "name": "stdout",
     "output_type": "stream",
     "text": [
      "F1: 0.6035928143712576\n"
     ]
    }
   ],
   "source": [
    "model = RandomForestClassifier(random_state=12345, n_estimators=30, max_depth=10)\n",
    "\n",
    "model.fit(features_upsampled, target_upsampled)\n",
    "\n",
    "predictions = model.predict(features_test)\n",
    "\n",
    "print(\"F1:\", f1_score(predictions, target_test))"
   ]
  },
  {
   "cell_type": "code",
   "execution_count": 66,
   "id": "13546d47",
   "metadata": {},
   "outputs": [
    {
     "name": "stdout",
     "output_type": "stream",
     "text": [
      "0.852463199791444\n"
     ]
    }
   ],
   "source": [
    "model = RandomForestClassifier(random_state=12345, n_estimators=30, max_depth=10)\n",
    "\n",
    "model.fit(features_upsampled, target_upsampled)\n",
    "\n",
    "probabilities_test_lr = model.predict_proba(features_test)\n",
    "\n",
    "probabilities_one_test_lr = probabilities_test_lr[:, 1]\n",
    "\n",
    "auc_roc=roc_auc_score(target_test, probabilities_one_test_lr)\n",
    "\n",
    "print(auc_roc)"
   ]
  },
  {
   "cell_type": "markdown",
   "id": "3b66d241",
   "metadata": {},
   "source": [
    "As we can see, both one metric and another meet all the criteria set out in the task."
   ]
  },
  {
   "cell_type": "markdown",
   "id": "13293cdc",
   "metadata": {},
   "source": [
    "We conducted the study in several stages. We first removed the missing values that we found in the dataset. Second, we applied an ordinal encoder to avoid problems when applying linear and regression models with categorical variables.\n",
    "\n",
    "Another important point of the study was data splitting, we used 40 percent of the data to train the model, leaving the rest for verification.\n",
    "\n",
    "In the study, we tested three models: Decision Tree Classifier, Random Forest Classifier, and Logistic Regression. The first two are classification models and the last one is regression.\n",
    "\n",
    "We used a loop to search the best parameters for our models.\n",
    "\n",
    "Once, applied the best parameters, the most accurate model was the RandomForestClassifier model.\n",
    "\n",
    "During the research, we evaluate the balance of the data and perform those operations that are most suitable to achieve our goals.\n",
    "\n",
    "Finally, we compared with auc roc and presented a graph to make sure that the predictive model was adequate and gave good results.\n",
    "\n",
    "Thus, we can conclude that the majority of customers will remain in the same bank and will not change, at least for the moment."
   ]
  }
 ],
 "metadata": {
  "kernelspec": {
   "display_name": "Python 3 (ipykernel)",
   "language": "python",
   "name": "python3"
  },
  "language_info": {
   "codemirror_mode": {
    "name": "ipython",
    "version": 3
   },
   "file_extension": ".py",
   "mimetype": "text/x-python",
   "name": "python",
   "nbconvert_exporter": "python",
   "pygments_lexer": "ipython3",
   "version": "3.9.7"
  }
 },
 "nbformat": 4,
 "nbformat_minor": 5
}
